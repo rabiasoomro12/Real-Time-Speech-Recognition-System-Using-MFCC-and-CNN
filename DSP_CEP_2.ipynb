{
 "cells": [
  {
   "cell_type": "code",
   "execution_count": 1,
   "id": "b50d8b9f",
   "metadata": {},
   "outputs": [
    {
     "name": "stdout",
     "output_type": "stream",
     "text": [
      "Requirement already satisfied: soundfile in c:\\users\\pmls\\anaconda3\\lib\\site-packages (0.13.1)\n",
      "Requirement already satisfied: pyaudio in c:\\users\\pmls\\anaconda3\\lib\\site-packages (0.2.14)\n",
      "Requirement already satisfied: numpy in c:\\users\\pmls\\anaconda3\\lib\\site-packages (1.26.4)\n",
      "Requirement already satisfied: librosa in c:\\users\\pmls\\anaconda3\\lib\\site-packages (0.11.0)\n",
      "Requirement already satisfied: tensorflow in c:\\users\\pmls\\anaconda3\\lib\\site-packages (2.19.0)\n",
      "Requirement already satisfied: matplotlib in c:\\users\\pmls\\anaconda3\\lib\\site-packages (3.7.1)\n",
      "Requirement already satisfied: seaborn in c:\\users\\pmls\\anaconda3\\lib\\site-packages (0.12.2)\n",
      "Requirement already satisfied: scikit-learn in c:\\users\\pmls\\anaconda3\\lib\\site-packages (1.6.1)\n",
      "Requirement already satisfied: nltk in c:\\users\\pmls\\anaconda3\\lib\\site-packages (3.8.1)\n",
      "Requirement already satisfied: jiwer in c:\\users\\pmls\\anaconda3\\lib\\site-packages (3.1.0)\n",
      "Requirement already satisfied: cffi>=1.0 in c:\\users\\pmls\\anaconda3\\lib\\site-packages (from soundfile) (1.15.1)\n",
      "Requirement already satisfied: audioread>=2.1.9 in c:\\users\\pmls\\anaconda3\\lib\\site-packages (from librosa) (3.0.1)\n",
      "Requirement already satisfied: numba>=0.51.0 in c:\\users\\pmls\\anaconda3\\lib\\site-packages (from librosa) (0.61.2)\n",
      "Requirement already satisfied: scipy>=1.6.0 in c:\\users\\pmls\\anaconda3\\lib\\site-packages (from librosa) (1.10.1)\n",
      "Requirement already satisfied: joblib>=1.0 in c:\\users\\pmls\\anaconda3\\lib\\site-packages (from librosa) (1.2.0)\n",
      "Requirement already satisfied: decorator>=4.3.0 in c:\\users\\pmls\\anaconda3\\lib\\site-packages (from librosa) (5.1.1)\n",
      "Requirement already satisfied: pooch>=1.1 in c:\\users\\pmls\\anaconda3\\lib\\site-packages (from librosa) (1.4.0)\n",
      "Requirement already satisfied: soxr>=0.3.2 in c:\\users\\pmls\\anaconda3\\lib\\site-packages (from librosa) (0.5.0.post1)\n",
      "Requirement already satisfied: typing_extensions>=4.1.1 in c:\\users\\pmls\\appdata\\roaming\\python\\python311\\site-packages (from librosa) (4.13.2)\n",
      "Requirement already satisfied: lazy_loader>=0.1 in c:\\users\\pmls\\anaconda3\\lib\\site-packages (from librosa) (0.2)\n",
      "Requirement already satisfied: msgpack>=1.0 in c:\\users\\pmls\\anaconda3\\lib\\site-packages (from librosa) (1.0.3)\n",
      "Requirement already satisfied: absl-py>=1.0.0 in c:\\users\\pmls\\anaconda3\\lib\\site-packages (from tensorflow) (2.2.2)\n",
      "Requirement already satisfied: astunparse>=1.6.0 in c:\\users\\pmls\\anaconda3\\lib\\site-packages (from tensorflow) (1.6.3)\n",
      "Requirement already satisfied: flatbuffers>=24.3.25 in c:\\users\\pmls\\anaconda3\\lib\\site-packages (from tensorflow) (25.2.10)\n",
      "Requirement already satisfied: gast!=0.5.0,!=0.5.1,!=0.5.2,>=0.2.1 in c:\\users\\pmls\\anaconda3\\lib\\site-packages (from tensorflow) (0.6.0)\n",
      "Requirement already satisfied: google-pasta>=0.1.1 in c:\\users\\pmls\\anaconda3\\lib\\site-packages (from tensorflow) (0.2.0)\n",
      "Requirement already satisfied: libclang>=13.0.0 in c:\\users\\pmls\\anaconda3\\lib\\site-packages (from tensorflow) (18.1.1)\n",
      "Requirement already satisfied: opt-einsum>=2.3.2 in c:\\users\\pmls\\anaconda3\\lib\\site-packages (from tensorflow) (3.4.0)\n",
      "Requirement already satisfied: packaging in c:\\users\\pmls\\anaconda3\\lib\\site-packages (from tensorflow) (23.0)\n",
      "Requirement already satisfied: protobuf!=4.21.0,!=4.21.1,!=4.21.2,!=4.21.3,!=4.21.4,!=4.21.5,<6.0.0dev,>=3.20.3 in c:\\users\\pmls\\anaconda3\\lib\\site-packages (from tensorflow) (5.29.4)\n",
      "Requirement already satisfied: requests<3,>=2.21.0 in c:\\users\\pmls\\appdata\\roaming\\python\\python311\\site-packages (from tensorflow) (2.32.3)\n",
      "Requirement already satisfied: setuptools in c:\\users\\pmls\\anaconda3\\lib\\site-packages (from tensorflow) (68.0.0)\n",
      "Requirement already satisfied: six>=1.12.0 in c:\\users\\pmls\\anaconda3\\lib\\site-packages (from tensorflow) (1.16.0)\n",
      "Requirement already satisfied: termcolor>=1.1.0 in c:\\users\\pmls\\anaconda3\\lib\\site-packages (from tensorflow) (3.0.1)\n",
      "Requirement already satisfied: wrapt>=1.11.0 in c:\\users\\pmls\\anaconda3\\lib\\site-packages (from tensorflow) (1.14.1)\n",
      "Requirement already satisfied: grpcio<2.0,>=1.24.3 in c:\\users\\pmls\\anaconda3\\lib\\site-packages (from tensorflow) (1.71.0)\n",
      "Requirement already satisfied: tensorboard~=2.19.0 in c:\\users\\pmls\\anaconda3\\lib\\site-packages (from tensorflow) (2.19.0)\n",
      "Requirement already satisfied: keras>=3.5.0 in c:\\users\\pmls\\anaconda3\\lib\\site-packages (from tensorflow) (3.9.2)\n",
      "Requirement already satisfied: h5py>=3.11.0 in c:\\users\\pmls\\anaconda3\\lib\\site-packages (from tensorflow) (3.13.0)\n",
      "Requirement already satisfied: ml-dtypes<1.0.0,>=0.5.1 in c:\\users\\pmls\\anaconda3\\lib\\site-packages (from tensorflow) (0.5.1)\n",
      "Requirement already satisfied: tensorflow-io-gcs-filesystem>=0.23.1 in c:\\users\\pmls\\anaconda3\\lib\\site-packages (from tensorflow) (0.31.0)\n",
      "Requirement already satisfied: contourpy>=1.0.1 in c:\\users\\pmls\\anaconda3\\lib\\site-packages (from matplotlib) (1.0.5)\n",
      "Requirement already satisfied: cycler>=0.10 in c:\\users\\pmls\\anaconda3\\lib\\site-packages (from matplotlib) (0.11.0)\n",
      "Requirement already satisfied: fonttools>=4.22.0 in c:\\users\\pmls\\anaconda3\\lib\\site-packages (from matplotlib) (4.25.0)\n",
      "Requirement already satisfied: kiwisolver>=1.0.1 in c:\\users\\pmls\\anaconda3\\lib\\site-packages (from matplotlib) (1.4.4)\n",
      "Requirement already satisfied: pillow>=6.2.0 in c:\\users\\pmls\\anaconda3\\lib\\site-packages (from matplotlib) (9.4.0)\n",
      "Requirement already satisfied: pyparsing>=2.3.1 in c:\\users\\pmls\\anaconda3\\lib\\site-packages (from matplotlib) (3.0.9)\n",
      "Requirement already satisfied: python-dateutil>=2.7 in c:\\users\\pmls\\anaconda3\\lib\\site-packages (from matplotlib) (2.8.2)\n",
      "Requirement already satisfied: pandas>=0.25 in c:\\users\\pmls\\anaconda3\\lib\\site-packages (from seaborn) (1.5.3)\n",
      "Requirement already satisfied: threadpoolctl>=3.1.0 in c:\\users\\pmls\\anaconda3\\lib\\site-packages (from scikit-learn) (3.5.0)\n",
      "Requirement already satisfied: click in c:\\users\\pmls\\anaconda3\\lib\\site-packages (from nltk) (8.2.0)\n",
      "Requirement already satisfied: regex>=2021.8.3 in c:\\users\\pmls\\anaconda3\\lib\\site-packages (from nltk) (2022.7.9)\n",
      "Requirement already satisfied: tqdm in c:\\users\\pmls\\appdata\\roaming\\python\\python311\\site-packages (from nltk) (4.67.1)\n",
      "Requirement already satisfied: rapidfuzz>=3.9.7 in c:\\users\\pmls\\anaconda3\\lib\\site-packages (from jiwer) (3.13.0)\n",
      "Requirement already satisfied: wheel<1.0,>=0.23.0 in c:\\users\\pmls\\anaconda3\\lib\\site-packages (from astunparse>=1.6.0->tensorflow) (0.38.4)\n",
      "Requirement already satisfied: pycparser in c:\\users\\pmls\\anaconda3\\lib\\site-packages (from cffi>=1.0->soundfile) (2.21)\n",
      "Requirement already satisfied: colorama in c:\\users\\pmls\\appdata\\roaming\\python\\python311\\site-packages (from click->nltk) (0.4.6)\n",
      "Requirement already satisfied: rich in c:\\users\\pmls\\anaconda3\\lib\\site-packages (from keras>=3.5.0->tensorflow) (14.0.0)\n",
      "Requirement already satisfied: namex in c:\\users\\pmls\\anaconda3\\lib\\site-packages (from keras>=3.5.0->tensorflow) (0.0.9)\n",
      "Requirement already satisfied: optree in c:\\users\\pmls\\anaconda3\\lib\\site-packages (from keras>=3.5.0->tensorflow) (0.15.0)\n",
      "Requirement already satisfied: llvmlite<0.45,>=0.44.0dev0 in c:\\users\\pmls\\anaconda3\\lib\\site-packages (from numba>=0.51.0->librosa) (0.44.0)\n",
      "Requirement already satisfied: pytz>=2020.1 in c:\\users\\pmls\\anaconda3\\lib\\site-packages (from pandas>=0.25->seaborn) (2022.7)\n",
      "Requirement already satisfied: appdirs in c:\\users\\pmls\\anaconda3\\lib\\site-packages (from pooch>=1.1->librosa) (1.4.4)\n",
      "Requirement already satisfied: charset-normalizer<4,>=2 in c:\\users\\pmls\\appdata\\roaming\\python\\python311\\site-packages (from requests<3,>=2.21.0->tensorflow) (3.4.2)\n",
      "Requirement already satisfied: idna<4,>=2.5 in c:\\users\\pmls\\appdata\\roaming\\python\\python311\\site-packages (from requests<3,>=2.21.0->tensorflow) (3.10)\n",
      "Requirement already satisfied: urllib3<3,>=1.21.1 in c:\\users\\pmls\\appdata\\roaming\\python\\python311\\site-packages (from requests<3,>=2.21.0->tensorflow) (2.4.0)\n",
      "Requirement already satisfied: certifi>=2017.4.17 in c:\\users\\pmls\\appdata\\roaming\\python\\python311\\site-packages (from requests<3,>=2.21.0->tensorflow) (2025.4.26)\n",
      "Requirement already satisfied: markdown>=2.6.8 in c:\\users\\pmls\\anaconda3\\lib\\site-packages (from tensorboard~=2.19.0->tensorflow) (3.4.1)\n",
      "Requirement already satisfied: tensorboard-data-server<0.8.0,>=0.7.0 in c:\\users\\pmls\\anaconda3\\lib\\site-packages (from tensorboard~=2.19.0->tensorflow) (0.7.2)\n",
      "Requirement already satisfied: werkzeug>=1.0.1 in c:\\users\\pmls\\anaconda3\\lib\\site-packages (from tensorboard~=2.19.0->tensorflow) (2.2.3)\n",
      "Requirement already satisfied: MarkupSafe>=2.1.1 in c:\\users\\pmls\\anaconda3\\lib\\site-packages (from werkzeug>=1.0.1->tensorboard~=2.19.0->tensorflow) (2.1.1)\n",
      "Requirement already satisfied: markdown-it-py>=2.2.0 in c:\\users\\pmls\\anaconda3\\lib\\site-packages (from rich->keras>=3.5.0->tensorflow) (2.2.0)\n",
      "Requirement already satisfied: pygments<3.0.0,>=2.13.0 in c:\\users\\pmls\\anaconda3\\lib\\site-packages (from rich->keras>=3.5.0->tensorflow) (2.15.1)\n",
      "Requirement already satisfied: mdurl~=0.1 in c:\\users\\pmls\\anaconda3\\lib\\site-packages (from markdown-it-py>=2.2.0->rich->keras>=3.5.0->tensorflow) (0.1.0)\n"
     ]
    },
    {
     "name": "stdout",
     "output_type": "stream",
     "text": [
      "Libraries installed and imported successfully!\n"
     ]
    },
    {
     "name": "stderr",
     "output_type": "stream",
     "text": [
      "[nltk_data] Downloading package punkt to\n",
      "[nltk_data]     C:\\Users\\PMLS\\AppData\\Roaming\\nltk_data...\n",
      "[nltk_data]   Package punkt is already up-to-date!\n"
     ]
    }
   ],
   "source": [
    "# Install required libraries\n",
    "!pip install soundfile pyaudio numpy librosa tensorflow matplotlib seaborn scikit-learn nltk jiwer\n",
    "\n",
    "# Import libraries\n",
    "import soundfile as sf\n",
    "import pyaudio\n",
    "import librosa\n",
    "import tensorflow as tf\n",
    "import numpy as np\n",
    "import matplotlib.pyplot as plt\n",
    "import seaborn as sns\n",
    "from sklearn.model_selection import train_test_split\n",
    "from sklearn.metrics import confusion_matrix, classification_report\n",
    "import nltk\n",
    "from jiwer import wer\n",
    "import os\n",
    "\n",
    "# Download NLTK data for language modeling\n",
    "nltk.download('punkt')\n",
    "\n",
    "print(\"Libraries installed and imported successfully!\")"
   ]
  },
  {
   "cell_type": "code",
   "execution_count": 2,
   "id": "e7b4fd76",
   "metadata": {},
   "outputs": [
    {
     "name": "stdout",
     "output_type": "stream",
     "text": [
      "Dataset already extracted at: C:\\Users\\PMLS\\Pictures\\SPEECH_COMMAND_DATASET\n",
      "cat: 2031 files found\n",
      "no: 3941 files found\n",
      "stop: 3872 files found\n",
      "wow: 2123 files found\n",
      "yes: 4044 files found\n",
      "Total audio files selected: 2000\n",
      "Label distribution: {'cat': 400, 'no': 400, 'stop': 400, 'wow': 400, 'yes': 400}\n"
     ]
    }
   ],
   "source": [
    "import os\n",
    "import zipfile\n",
    "\n",
    "# Paths for dataset\n",
    "extract_path = r\"C:\\Users\\PMLS\\Pictures\\SPEECH_COMMAND_DATASET\"\n",
    "commands = [\"cat\", \"no\", \"stop\", \"wow\", \"yes\"]\n",
    "\n",
    "# Verify if dataset is already extracted\n",
    "if not os.path.exists(extract_path):\n",
    "    zip_path = r\"C:\\Users\\PMLS\\Pictures\\SPEECH_COMMAND_DATASET.zip\"\n",
    "    if os.path.exists(zip_path):\n",
    "        with zipfile.ZipFile(zip_path, 'r') as zip_ref:\n",
    "            zip_ref.extractall(extract_path)\n",
    "        print(f\"Dataset extracted to: {extract_path}\")\n",
    "    else:\n",
    "        raise FileNotFoundError(f\"ZIP file not found at {zip_path}. Please ensure the dataset is available.\")\n",
    "else:\n",
    "    print(f\"Dataset already extracted at: {extract_path}\")\n",
    "\n",
    "# Verify extracted folders and collect audio files\n",
    "audio_files = []\n",
    "labels = []\n",
    "max_files_per_command = 400  # Limit to 400 files per command for balanced dataset\n",
    "\n",
    "for command in commands:\n",
    "    folder_path = os.path.join(extract_path, command)\n",
    "    if not os.path.exists(folder_path):\n",
    "        print(f\"Warning: {command} folder is missing!\")\n",
    "        continue\n",
    "    # Get list of .wav files\n",
    "    files = [f for f in os.listdir(folder_path) if f.endswith('.wav')]\n",
    "    file_count = len(files)\n",
    "    print(f\"{command}: {file_count} files found\")\n",
    "    \n",
    "    # Limit to max_files_per_command\n",
    "    selected_files = files[:min(file_count, max_files_per_command)]\n",
    "    audio_files.extend([os.path.join(folder_path, f) for f in selected_files])\n",
    "    labels.extend([command] * len(selected_files))\n",
    "\n",
    "# Convert labels to numeric indices\n",
    "label_to_index = {label: idx for idx, label in enumerate(commands)}\n",
    "numeric_labels = [label_to_index[label] for label in labels]\n",
    "\n",
    "# Print summary\n",
    "print(f\"Total audio files selected: {len(audio_files)}\")\n",
    "print(f\"Label distribution: {dict((command, labels.count(command)) for command in commands)}\")"
   ]
  },
  {
   "cell_type": "code",
   "execution_count": 3,
   "id": "bd329be8",
   "metadata": {},
   "outputs": [
    {
     "name": "stderr",
     "output_type": "stream",
     "text": [
      "C:\\Users\\PMLS\\anaconda3\\Lib\\site-packages\\paramiko\\transport.py:219: CryptographyDeprecationWarning: Blowfish has been deprecated\n",
      "  \"class\": algorithms.Blowfish,\n"
     ]
    },
    {
     "name": "stdout",
     "output_type": "stream",
     "text": [
      "MFCC (n_mfcc=13) - Features shape: (2000, 13, 32), Labels shape: (2000,)\n",
      "MFCC (n_mfcc=20) - Features shape: (2000, 20, 32), Labels shape: (2000,)\n",
      "MFCC features and labels saved successfully!\n"
     ]
    }
   ],
   "source": [
    "import numpy as np\n",
    "import librosa\n",
    "import os\n",
    "\n",
    "# Function to extract MFCCs with configurable parameters\n",
    "def extract_mfcc(audio_files, labels, n_mfcc=13, max_frames=32, sr=16000):\n",
    "    features = []\n",
    "    valid_labels = []\n",
    "    \n",
    "    for file_path, label in zip(audio_files, labels):\n",
    "        try:\n",
    "            # Load audio file\n",
    "            audio, _ = librosa.load(file_path, sr=sr)\n",
    "            # Extract MFCCs\n",
    "            mfcc = librosa.feature.mfcc(y=audio, sr=sr, n_mfcc=n_mfcc)\n",
    "            \n",
    "            # Normalize feature dimensions (pad or truncate to max_frames)\n",
    "            if mfcc.shape[1] < max_frames:\n",
    "                mfcc = np.pad(mfcc, ((0, 0), (0, max_frames - mfcc.shape[1])), mode='constant')\n",
    "            else:\n",
    "                mfcc = mfcc[:, :max_frames]\n",
    "            \n",
    "            features.append(mfcc)\n",
    "            valid_labels.append(label)\n",
    "        except Exception as e:\n",
    "            print(f\"Error processing {file_path}: {e}\")\n",
    "    \n",
    "    return np.array(features), np.array(valid_labels)\n",
    "\n",
    "# Paths and commands from previous step\n",
    "extract_path = r\"C:\\Users\\PMLS\\Pictures\\SPEECH_COMMAND_DATASET\"\n",
    "commands = [\"cat\", \"no\", \"stop\", \"wow\", \"yes\"]\n",
    "\n",
    "# Assume audio_files and numeric_labels are available from Step 2\n",
    "# If not, re-run the file collection (for safety, included here)\n",
    "audio_files = []\n",
    "labels = []\n",
    "max_files_per_command = 400\n",
    "\n",
    "for command in commands:\n",
    "    folder_path = os.path.join(extract_path, command)\n",
    "    files = [f for f in os.listdir(folder_path) if f.endswith('.wav')]\n",
    "    selected_files = files[:min(len(files), max_files_per_command)]\n",
    "    audio_files.extend([os.path.join(folder_path, f) for f in selected_files])\n",
    "    labels.extend([command] * len(selected_files))\n",
    "\n",
    "label_to_index = {label: idx for idx, label in enumerate(commands)}\n",
    "numeric_labels = np.array([label_to_index[label] for label in labels])\n",
    "\n",
    "# Extract MFCCs with n_mfcc=13\n",
    "X_13, y_13 = extract_mfcc(audio_files, numeric_labels, n_mfcc=13, max_frames=32)\n",
    "print(f\"MFCC (n_mfcc=13) - Features shape: {X_13.shape}, Labels shape: {y_13.shape}\")\n",
    "\n",
    "# Extract MFCCs with n_mfcc=20 (experimentation)\n",
    "X_20, y_20 = extract_mfcc(audio_files, numeric_labels, n_mfcc=20, max_frames=32)\n",
    "print(f\"MFCC (n_mfcc=20) - Features shape: {X_20.shape}, Labels shape: {y_20.shape}\")\n",
    "\n",
    "# Save features and labels for later use\n",
    "np.save('mfcc_13_features.npy', X_13)\n",
    "np.save('mfcc_13_labels.npy', y_13)\n",
    "np.save('mfcc_20_features.npy', X_20)\n",
    "np.save('mfcc_20_labels.npy', y_20)\n",
    "print(\"MFCC features and labels saved successfully!\")"
   ]
  },
  {
   "cell_type": "code",
   "execution_count": 4,
   "id": "358fae2e",
   "metadata": {},
   "outputs": [
    {
     "name": "stdout",
     "output_type": "stream",
     "text": [
      "Training samples: 1600, Test samples: 400\n",
      "Feature shape: (1600, 13, 32, 1), Label shape: (1600,)\n"
     ]
    },
    {
     "data": {
      "text/html": [
       "<pre style=\"white-space:pre;overflow-x:auto;line-height:normal;font-family:Menlo,'DejaVu Sans Mono',consolas,'Courier New',monospace\"><span style=\"font-weight: bold\">Model: \"sequential\"</span>\n",
       "</pre>\n"
      ],
      "text/plain": [
       "\u001b[1mModel: \"sequential\"\u001b[0m\n"
      ]
     },
     "metadata": {},
     "output_type": "display_data"
    },
    {
     "data": {
      "text/html": [
       "<pre style=\"white-space:pre;overflow-x:auto;line-height:normal;font-family:Menlo,'DejaVu Sans Mono',consolas,'Courier New',monospace\">┏━━━━━━━━━━━━━━━━━━━━━━━━━━━━━━━━━━━━━━┳━━━━━━━━━━━━━━━━━━━━━━━━━━━━━┳━━━━━━━━━━━━━━━━━┓\n",
       "┃<span style=\"font-weight: bold\"> Layer (type)                         </span>┃<span style=\"font-weight: bold\"> Output Shape                </span>┃<span style=\"font-weight: bold\">         Param # </span>┃\n",
       "┡━━━━━━━━━━━━━━━━━━━━━━━━━━━━━━━━━━━━━━╇━━━━━━━━━━━━━━━━━━━━━━━━━━━━━╇━━━━━━━━━━━━━━━━━┩\n",
       "│ conv2d (<span style=\"color: #0087ff; text-decoration-color: #0087ff\">Conv2D</span>)                      │ (<span style=\"color: #00d7ff; text-decoration-color: #00d7ff\">None</span>, <span style=\"color: #00af00; text-decoration-color: #00af00\">11</span>, <span style=\"color: #00af00; text-decoration-color: #00af00\">30</span>, <span style=\"color: #00af00; text-decoration-color: #00af00\">32</span>)          │             <span style=\"color: #00af00; text-decoration-color: #00af00\">320</span> │\n",
       "├──────────────────────────────────────┼─────────────────────────────┼─────────────────┤\n",
       "│ max_pooling2d (<span style=\"color: #0087ff; text-decoration-color: #0087ff\">MaxPooling2D</span>)         │ (<span style=\"color: #00d7ff; text-decoration-color: #00d7ff\">None</span>, <span style=\"color: #00af00; text-decoration-color: #00af00\">5</span>, <span style=\"color: #00af00; text-decoration-color: #00af00\">15</span>, <span style=\"color: #00af00; text-decoration-color: #00af00\">32</span>)           │               <span style=\"color: #00af00; text-decoration-color: #00af00\">0</span> │\n",
       "├──────────────────────────────────────┼─────────────────────────────┼─────────────────┤\n",
       "│ conv2d_1 (<span style=\"color: #0087ff; text-decoration-color: #0087ff\">Conv2D</span>)                    │ (<span style=\"color: #00d7ff; text-decoration-color: #00d7ff\">None</span>, <span style=\"color: #00af00; text-decoration-color: #00af00\">3</span>, <span style=\"color: #00af00; text-decoration-color: #00af00\">13</span>, <span style=\"color: #00af00; text-decoration-color: #00af00\">64</span>)           │          <span style=\"color: #00af00; text-decoration-color: #00af00\">18,496</span> │\n",
       "├──────────────────────────────────────┼─────────────────────────────┼─────────────────┤\n",
       "│ max_pooling2d_1 (<span style=\"color: #0087ff; text-decoration-color: #0087ff\">MaxPooling2D</span>)       │ (<span style=\"color: #00d7ff; text-decoration-color: #00d7ff\">None</span>, <span style=\"color: #00af00; text-decoration-color: #00af00\">1</span>, <span style=\"color: #00af00; text-decoration-color: #00af00\">6</span>, <span style=\"color: #00af00; text-decoration-color: #00af00\">64</span>)            │               <span style=\"color: #00af00; text-decoration-color: #00af00\">0</span> │\n",
       "├──────────────────────────────────────┼─────────────────────────────┼─────────────────┤\n",
       "│ flatten (<span style=\"color: #0087ff; text-decoration-color: #0087ff\">Flatten</span>)                    │ (<span style=\"color: #00d7ff; text-decoration-color: #00d7ff\">None</span>, <span style=\"color: #00af00; text-decoration-color: #00af00\">384</span>)                 │               <span style=\"color: #00af00; text-decoration-color: #00af00\">0</span> │\n",
       "├──────────────────────────────────────┼─────────────────────────────┼─────────────────┤\n",
       "│ dense (<span style=\"color: #0087ff; text-decoration-color: #0087ff\">Dense</span>)                        │ (<span style=\"color: #00d7ff; text-decoration-color: #00d7ff\">None</span>, <span style=\"color: #00af00; text-decoration-color: #00af00\">128</span>)                 │          <span style=\"color: #00af00; text-decoration-color: #00af00\">49,280</span> │\n",
       "├──────────────────────────────────────┼─────────────────────────────┼─────────────────┤\n",
       "│ dropout (<span style=\"color: #0087ff; text-decoration-color: #0087ff\">Dropout</span>)                    │ (<span style=\"color: #00d7ff; text-decoration-color: #00d7ff\">None</span>, <span style=\"color: #00af00; text-decoration-color: #00af00\">128</span>)                 │               <span style=\"color: #00af00; text-decoration-color: #00af00\">0</span> │\n",
       "├──────────────────────────────────────┼─────────────────────────────┼─────────────────┤\n",
       "│ dense_1 (<span style=\"color: #0087ff; text-decoration-color: #0087ff\">Dense</span>)                      │ (<span style=\"color: #00d7ff; text-decoration-color: #00d7ff\">None</span>, <span style=\"color: #00af00; text-decoration-color: #00af00\">5</span>)                   │             <span style=\"color: #00af00; text-decoration-color: #00af00\">645</span> │\n",
       "└──────────────────────────────────────┴─────────────────────────────┴─────────────────┘\n",
       "</pre>\n"
      ],
      "text/plain": [
       "┏━━━━━━━━━━━━━━━━━━━━━━━━━━━━━━━━━━━━━━┳━━━━━━━━━━━━━━━━━━━━━━━━━━━━━┳━━━━━━━━━━━━━━━━━┓\n",
       "┃\u001b[1m \u001b[0m\u001b[1mLayer (type)                        \u001b[0m\u001b[1m \u001b[0m┃\u001b[1m \u001b[0m\u001b[1mOutput Shape               \u001b[0m\u001b[1m \u001b[0m┃\u001b[1m \u001b[0m\u001b[1m        Param #\u001b[0m\u001b[1m \u001b[0m┃\n",
       "┡━━━━━━━━━━━━━━━━━━━━━━━━━━━━━━━━━━━━━━╇━━━━━━━━━━━━━━━━━━━━━━━━━━━━━╇━━━━━━━━━━━━━━━━━┩\n",
       "│ conv2d (\u001b[38;5;33mConv2D\u001b[0m)                      │ (\u001b[38;5;45mNone\u001b[0m, \u001b[38;5;34m11\u001b[0m, \u001b[38;5;34m30\u001b[0m, \u001b[38;5;34m32\u001b[0m)          │             \u001b[38;5;34m320\u001b[0m │\n",
       "├──────────────────────────────────────┼─────────────────────────────┼─────────────────┤\n",
       "│ max_pooling2d (\u001b[38;5;33mMaxPooling2D\u001b[0m)         │ (\u001b[38;5;45mNone\u001b[0m, \u001b[38;5;34m5\u001b[0m, \u001b[38;5;34m15\u001b[0m, \u001b[38;5;34m32\u001b[0m)           │               \u001b[38;5;34m0\u001b[0m │\n",
       "├──────────────────────────────────────┼─────────────────────────────┼─────────────────┤\n",
       "│ conv2d_1 (\u001b[38;5;33mConv2D\u001b[0m)                    │ (\u001b[38;5;45mNone\u001b[0m, \u001b[38;5;34m3\u001b[0m, \u001b[38;5;34m13\u001b[0m, \u001b[38;5;34m64\u001b[0m)           │          \u001b[38;5;34m18,496\u001b[0m │\n",
       "├──────────────────────────────────────┼─────────────────────────────┼─────────────────┤\n",
       "│ max_pooling2d_1 (\u001b[38;5;33mMaxPooling2D\u001b[0m)       │ (\u001b[38;5;45mNone\u001b[0m, \u001b[38;5;34m1\u001b[0m, \u001b[38;5;34m6\u001b[0m, \u001b[38;5;34m64\u001b[0m)            │               \u001b[38;5;34m0\u001b[0m │\n",
       "├──────────────────────────────────────┼─────────────────────────────┼─────────────────┤\n",
       "│ flatten (\u001b[38;5;33mFlatten\u001b[0m)                    │ (\u001b[38;5;45mNone\u001b[0m, \u001b[38;5;34m384\u001b[0m)                 │               \u001b[38;5;34m0\u001b[0m │\n",
       "├──────────────────────────────────────┼─────────────────────────────┼─────────────────┤\n",
       "│ dense (\u001b[38;5;33mDense\u001b[0m)                        │ (\u001b[38;5;45mNone\u001b[0m, \u001b[38;5;34m128\u001b[0m)                 │          \u001b[38;5;34m49,280\u001b[0m │\n",
       "├──────────────────────────────────────┼─────────────────────────────┼─────────────────┤\n",
       "│ dropout (\u001b[38;5;33mDropout\u001b[0m)                    │ (\u001b[38;5;45mNone\u001b[0m, \u001b[38;5;34m128\u001b[0m)                 │               \u001b[38;5;34m0\u001b[0m │\n",
       "├──────────────────────────────────────┼─────────────────────────────┼─────────────────┤\n",
       "│ dense_1 (\u001b[38;5;33mDense\u001b[0m)                      │ (\u001b[38;5;45mNone\u001b[0m, \u001b[38;5;34m5\u001b[0m)                   │             \u001b[38;5;34m645\u001b[0m │\n",
       "└──────────────────────────────────────┴─────────────────────────────┴─────────────────┘\n"
      ]
     },
     "metadata": {},
     "output_type": "display_data"
    },
    {
     "data": {
      "text/html": [
       "<pre style=\"white-space:pre;overflow-x:auto;line-height:normal;font-family:Menlo,'DejaVu Sans Mono',consolas,'Courier New',monospace\"><span style=\"font-weight: bold\"> Total params: </span><span style=\"color: #00af00; text-decoration-color: #00af00\">68,741</span> (268.52 KB)\n",
       "</pre>\n"
      ],
      "text/plain": [
       "\u001b[1m Total params: \u001b[0m\u001b[38;5;34m68,741\u001b[0m (268.52 KB)\n"
      ]
     },
     "metadata": {},
     "output_type": "display_data"
    },
    {
     "data": {
      "text/html": [
       "<pre style=\"white-space:pre;overflow-x:auto;line-height:normal;font-family:Menlo,'DejaVu Sans Mono',consolas,'Courier New',monospace\"><span style=\"font-weight: bold\"> Trainable params: </span><span style=\"color: #00af00; text-decoration-color: #00af00\">68,741</span> (268.52 KB)\n",
       "</pre>\n"
      ],
      "text/plain": [
       "\u001b[1m Trainable params: \u001b[0m\u001b[38;5;34m68,741\u001b[0m (268.52 KB)\n"
      ]
     },
     "metadata": {},
     "output_type": "display_data"
    },
    {
     "data": {
      "text/html": [
       "<pre style=\"white-space:pre;overflow-x:auto;line-height:normal;font-family:Menlo,'DejaVu Sans Mono',consolas,'Courier New',monospace\"><span style=\"font-weight: bold\"> Non-trainable params: </span><span style=\"color: #00af00; text-decoration-color: #00af00\">0</span> (0.00 B)\n",
       "</pre>\n"
      ],
      "text/plain": [
       "\u001b[1m Non-trainable params: \u001b[0m\u001b[38;5;34m0\u001b[0m (0.00 B)\n"
      ]
     },
     "metadata": {},
     "output_type": "display_data"
    },
    {
     "name": "stdout",
     "output_type": "stream",
     "text": [
      "Epoch 1/20\n",
      "\u001b[1m50/50\u001b[0m \u001b[32m━━━━━━━━━━━━━━━━━━━━\u001b[0m\u001b[37m\u001b[0m \u001b[1m7s\u001b[0m 35ms/step - accuracy: 0.2239 - loss: 13.3507 - val_accuracy: 0.4650 - val_loss: 1.3062\n",
      "Epoch 2/20\n",
      "\u001b[1m50/50\u001b[0m \u001b[32m━━━━━━━━━━━━━━━━━━━━\u001b[0m\u001b[37m\u001b[0m \u001b[1m1s\u001b[0m 19ms/step - accuracy: 0.4276 - loss: 1.3753 - val_accuracy: 0.6400 - val_loss: 1.0029\n",
      "Epoch 3/20\n",
      "\u001b[1m50/50\u001b[0m \u001b[32m━━━━━━━━━━━━━━━━━━━━\u001b[0m\u001b[37m\u001b[0m \u001b[1m1s\u001b[0m 19ms/step - accuracy: 0.5904 - loss: 1.0216 - val_accuracy: 0.7000 - val_loss: 0.8007\n",
      "Epoch 4/20\n",
      "\u001b[1m50/50\u001b[0m \u001b[32m━━━━━━━━━━━━━━━━━━━━\u001b[0m\u001b[37m\u001b[0m \u001b[1m1s\u001b[0m 20ms/step - accuracy: 0.6777 - loss: 0.8359 - val_accuracy: 0.7775 - val_loss: 0.6707\n",
      "Epoch 5/20\n",
      "\u001b[1m50/50\u001b[0m \u001b[32m━━━━━━━━━━━━━━━━━━━━\u001b[0m\u001b[37m\u001b[0m \u001b[1m1s\u001b[0m 23ms/step - accuracy: 0.7528 - loss: 0.6709 - val_accuracy: 0.8050 - val_loss: 0.5726\n",
      "Epoch 6/20\n",
      "\u001b[1m50/50\u001b[0m \u001b[32m━━━━━━━━━━━━━━━━━━━━\u001b[0m\u001b[37m\u001b[0m \u001b[1m1s\u001b[0m 19ms/step - accuracy: 0.7905 - loss: 0.5402 - val_accuracy: 0.8850 - val_loss: 0.3933\n",
      "Epoch 7/20\n",
      "\u001b[1m50/50\u001b[0m \u001b[32m━━━━━━━━━━━━━━━━━━━━\u001b[0m\u001b[37m\u001b[0m \u001b[1m1s\u001b[0m 20ms/step - accuracy: 0.8765 - loss: 0.3748 - val_accuracy: 0.8700 - val_loss: 0.3942\n",
      "Epoch 8/20\n",
      "\u001b[1m50/50\u001b[0m \u001b[32m━━━━━━━━━━━━━━━━━━━━\u001b[0m\u001b[37m\u001b[0m \u001b[1m1s\u001b[0m 20ms/step - accuracy: 0.8719 - loss: 0.3305 - val_accuracy: 0.8575 - val_loss: 0.3872\n",
      "Epoch 9/20\n",
      "\u001b[1m50/50\u001b[0m \u001b[32m━━━━━━━━━━━━━━━━━━━━\u001b[0m\u001b[37m\u001b[0m \u001b[1m1s\u001b[0m 20ms/step - accuracy: 0.8831 - loss: 0.3203 - val_accuracy: 0.8800 - val_loss: 0.3144\n",
      "Epoch 10/20\n",
      "\u001b[1m50/50\u001b[0m \u001b[32m━━━━━━━━━━━━━━━━━━━━\u001b[0m\u001b[37m\u001b[0m \u001b[1m1s\u001b[0m 20ms/step - accuracy: 0.9192 - loss: 0.2462 - val_accuracy: 0.9100 - val_loss: 0.2933\n",
      "Epoch 11/20\n",
      "\u001b[1m50/50\u001b[0m \u001b[32m━━━━━━━━━━━━━━━━━━━━\u001b[0m\u001b[37m\u001b[0m \u001b[1m1s\u001b[0m 21ms/step - accuracy: 0.9192 - loss: 0.2100 - val_accuracy: 0.9150 - val_loss: 0.2645\n",
      "Epoch 12/20\n",
      "\u001b[1m50/50\u001b[0m \u001b[32m━━━━━━━━━━━━━━━━━━━━\u001b[0m\u001b[37m\u001b[0m \u001b[1m1s\u001b[0m 19ms/step - accuracy: 0.9407 - loss: 0.1642 - val_accuracy: 0.8900 - val_loss: 0.3096\n",
      "Epoch 13/20\n",
      "\u001b[1m50/50\u001b[0m \u001b[32m━━━━━━━━━━━━━━━━━━━━\u001b[0m\u001b[37m\u001b[0m \u001b[1m1s\u001b[0m 18ms/step - accuracy: 0.9167 - loss: 0.2202 - val_accuracy: 0.9250 - val_loss: 0.2602\n",
      "Epoch 14/20\n",
      "\u001b[1m50/50\u001b[0m \u001b[32m━━━━━━━━━━━━━━━━━━━━\u001b[0m\u001b[37m\u001b[0m \u001b[1m1s\u001b[0m 19ms/step - accuracy: 0.9473 - loss: 0.1619 - val_accuracy: 0.8950 - val_loss: 0.3156\n",
      "Epoch 15/20\n",
      "\u001b[1m50/50\u001b[0m \u001b[32m━━━━━━━━━━━━━━━━━━━━\u001b[0m\u001b[37m\u001b[0m \u001b[1m1s\u001b[0m 20ms/step - accuracy: 0.9546 - loss: 0.1340 - val_accuracy: 0.9100 - val_loss: 0.2675\n",
      "Epoch 16/20\n",
      "\u001b[1m50/50\u001b[0m \u001b[32m━━━━━━━━━━━━━━━━━━━━\u001b[0m\u001b[37m\u001b[0m \u001b[1m1s\u001b[0m 20ms/step - accuracy: 0.9474 - loss: 0.1343 - val_accuracy: 0.9025 - val_loss: 0.2879\n",
      "Epoch 17/20\n",
      "\u001b[1m50/50\u001b[0m \u001b[32m━━━━━━━━━━━━━━━━━━━━\u001b[0m\u001b[37m\u001b[0m \u001b[1m1s\u001b[0m 19ms/step - accuracy: 0.9598 - loss: 0.1297 - val_accuracy: 0.9150 - val_loss: 0.2555\n",
      "Epoch 18/20\n",
      "\u001b[1m50/50\u001b[0m \u001b[32m━━━━━━━━━━━━━━━━━━━━\u001b[0m\u001b[37m\u001b[0m \u001b[1m1s\u001b[0m 19ms/step - accuracy: 0.9583 - loss: 0.1171 - val_accuracy: 0.9225 - val_loss: 0.2574\n",
      "Epoch 19/20\n",
      "\u001b[1m50/50\u001b[0m \u001b[32m━━━━━━━━━━━━━━━━━━━━\u001b[0m\u001b[37m\u001b[0m \u001b[1m1s\u001b[0m 18ms/step - accuracy: 0.9665 - loss: 0.1050 - val_accuracy: 0.9175 - val_loss: 0.2734\n",
      "Epoch 20/20\n",
      "\u001b[1m50/50\u001b[0m \u001b[32m━━━━━━━━━━━━━━━━━━━━\u001b[0m\u001b[37m\u001b[0m \u001b[1m1s\u001b[0m 19ms/step - accuracy: 0.9676 - loss: 0.0915 - val_accuracy: 0.9225 - val_loss: 0.2394\n"
     ]
    },
    {
     "name": "stderr",
     "output_type": "stream",
     "text": [
      "WARNING:absl:You are saving your model as an HDF5 file via `model.save()` or `keras.saving.save_model(model)`. This file format is considered legacy. We recommend using instead the native Keras format, e.g. `model.save('my_model.keras')` or `keras.saving.save_model(model, 'my_model.keras')`. \n"
     ]
    },
    {
     "name": "stdout",
     "output_type": "stream",
     "text": [
      "Model (lr=0.001) trained and saved!\n",
      "Epoch 1/20\n",
      "\u001b[1m50/50\u001b[0m \u001b[32m━━━━━━━━━━━━━━━━━━━━\u001b[0m\u001b[37m\u001b[0m \u001b[1m5s\u001b[0m 32ms/step - accuracy: 0.2076 - loss: 13.3661 - val_accuracy: 0.3900 - val_loss: 2.7496\n",
      "Epoch 2/20\n",
      "\u001b[1m50/50\u001b[0m \u001b[32m━━━━━━━━━━━━━━━━━━━━\u001b[0m\u001b[37m\u001b[0m \u001b[1m1s\u001b[0m 21ms/step - accuracy: 0.3039 - loss: 5.6177 - val_accuracy: 0.5000 - val_loss: 1.8058\n",
      "Epoch 3/20\n",
      "\u001b[1m50/50\u001b[0m \u001b[32m━━━━━━━━━━━━━━━━━━━━\u001b[0m\u001b[37m\u001b[0m \u001b[1m1s\u001b[0m 20ms/step - accuracy: 0.4021 - loss: 3.1049 - val_accuracy: 0.5150 - val_loss: 1.4012\n",
      "Epoch 4/20\n",
      "\u001b[1m50/50\u001b[0m \u001b[32m━━━━━━━━━━━━━━━━━━━━\u001b[0m\u001b[37m\u001b[0m \u001b[1m1s\u001b[0m 20ms/step - accuracy: 0.3943 - loss: 2.2380 - val_accuracy: 0.5475 - val_loss: 1.2369\n",
      "Epoch 5/20\n",
      "\u001b[1m50/50\u001b[0m \u001b[32m━━━━━━━━━━━━━━━━━━━━\u001b[0m\u001b[37m\u001b[0m \u001b[1m1s\u001b[0m 20ms/step - accuracy: 0.4661 - loss: 1.6847 - val_accuracy: 0.5625 - val_loss: 1.1416\n",
      "Epoch 6/20\n",
      "\u001b[1m50/50\u001b[0m \u001b[32m━━━━━━━━━━━━━━━━━━━━\u001b[0m\u001b[37m\u001b[0m \u001b[1m1s\u001b[0m 19ms/step - accuracy: 0.4460 - loss: 1.4960 - val_accuracy: 0.5750 - val_loss: 1.1227\n",
      "Epoch 7/20\n",
      "\u001b[1m50/50\u001b[0m \u001b[32m━━━━━━━━━━━━━━━━━━━━\u001b[0m\u001b[37m\u001b[0m \u001b[1m1s\u001b[0m 19ms/step - accuracy: 0.4892 - loss: 1.3539 - val_accuracy: 0.5950 - val_loss: 1.0879\n",
      "Epoch 8/20\n",
      "\u001b[1m50/50\u001b[0m \u001b[32m━━━━━━━━━━━━━━━━━━━━\u001b[0m\u001b[37m\u001b[0m \u001b[1m1s\u001b[0m 20ms/step - accuracy: 0.4791 - loss: 1.2971 - val_accuracy: 0.6225 - val_loss: 1.0375\n",
      "Epoch 9/20\n",
      "\u001b[1m50/50\u001b[0m \u001b[32m━━━━━━━━━━━━━━━━━━━━\u001b[0m\u001b[37m\u001b[0m \u001b[1m1s\u001b[0m 19ms/step - accuracy: 0.5415 - loss: 1.1429 - val_accuracy: 0.6600 - val_loss: 0.9938\n",
      "Epoch 10/20\n",
      "\u001b[1m50/50\u001b[0m \u001b[32m━━━━━━━━━━━━━━━━━━━━\u001b[0m\u001b[37m\u001b[0m \u001b[1m1s\u001b[0m 20ms/step - accuracy: 0.5529 - loss: 1.1518 - val_accuracy: 0.6650 - val_loss: 0.9580\n",
      "Epoch 11/20\n",
      "\u001b[1m50/50\u001b[0m \u001b[32m━━━━━━━━━━━━━━━━━━━━\u001b[0m\u001b[37m\u001b[0m \u001b[1m1s\u001b[0m 20ms/step - accuracy: 0.5540 - loss: 1.1693 - val_accuracy: 0.6625 - val_loss: 0.9342\n",
      "Epoch 12/20\n",
      "\u001b[1m50/50\u001b[0m \u001b[32m━━━━━━━━━━━━━━━━━━━━\u001b[0m\u001b[37m\u001b[0m \u001b[1m1s\u001b[0m 18ms/step - accuracy: 0.5799 - loss: 1.0799 - val_accuracy: 0.6825 - val_loss: 0.9076\n",
      "Epoch 13/20\n",
      "\u001b[1m50/50\u001b[0m \u001b[32m━━━━━━━━━━━━━━━━━━━━\u001b[0m\u001b[37m\u001b[0m \u001b[1m1s\u001b[0m 19ms/step - accuracy: 0.5926 - loss: 1.0385 - val_accuracy: 0.7025 - val_loss: 0.8700\n",
      "Epoch 14/20\n",
      "\u001b[1m50/50\u001b[0m \u001b[32m━━━━━━━━━━━━━━━━━━━━\u001b[0m\u001b[37m\u001b[0m \u001b[1m1s\u001b[0m 21ms/step - accuracy: 0.6235 - loss: 0.9369 - val_accuracy: 0.7125 - val_loss: 0.8168\n",
      "Epoch 15/20\n",
      "\u001b[1m50/50\u001b[0m \u001b[32m━━━━━━━━━━━━━━━━━━━━\u001b[0m\u001b[37m\u001b[0m \u001b[1m1s\u001b[0m 20ms/step - accuracy: 0.6436 - loss: 0.9033 - val_accuracy: 0.7050 - val_loss: 0.8280\n",
      "Epoch 16/20\n",
      "\u001b[1m50/50\u001b[0m \u001b[32m━━━━━━━━━━━━━━━━━━━━\u001b[0m\u001b[37m\u001b[0m \u001b[1m1s\u001b[0m 17ms/step - accuracy: 0.6473 - loss: 0.9494 - val_accuracy: 0.7250 - val_loss: 0.7879\n",
      "Epoch 17/20\n",
      "\u001b[1m50/50\u001b[0m \u001b[32m━━━━━━━━━━━━━━━━━━━━\u001b[0m\u001b[37m\u001b[0m \u001b[1m1s\u001b[0m 18ms/step - accuracy: 0.6612 - loss: 0.8909 - val_accuracy: 0.7475 - val_loss: 0.7639\n",
      "Epoch 18/20\n",
      "\u001b[1m50/50\u001b[0m \u001b[32m━━━━━━━━━━━━━━━━━━━━\u001b[0m\u001b[37m\u001b[0m \u001b[1m1s\u001b[0m 19ms/step - accuracy: 0.7043 - loss: 0.7968 - val_accuracy: 0.7450 - val_loss: 0.7572\n",
      "Epoch 19/20\n",
      "\u001b[1m50/50\u001b[0m \u001b[32m━━━━━━━━━━━━━━━━━━━━\u001b[0m\u001b[37m\u001b[0m \u001b[1m1s\u001b[0m 18ms/step - accuracy: 0.7117 - loss: 0.7842 - val_accuracy: 0.7725 - val_loss: 0.7283\n",
      "Epoch 20/20\n",
      "\u001b[1m50/50\u001b[0m \u001b[32m━━━━━━━━━━━━━━━━━━━━\u001b[0m\u001b[37m\u001b[0m \u001b[1m1s\u001b[0m 19ms/step - accuracy: 0.7060 - loss: 0.7997 - val_accuracy: 0.7825 - val_loss: 0.6981\n"
     ]
    },
    {
     "name": "stderr",
     "output_type": "stream",
     "text": [
      "WARNING:absl:You are saving your model as an HDF5 file via `model.save()` or `keras.saving.save_model(model)`. This file format is considered legacy. We recommend using instead the native Keras format, e.g. `model.save('my_model.keras')` or `keras.saving.save_model(model, 'my_model.keras')`. \n"
     ]
    },
    {
     "name": "stdout",
     "output_type": "stream",
     "text": [
      "Model (lr=0.0001) trained and saved!\n",
      "Test accuracy (lr=0.001): 0.9225\n",
      "Test accuracy (lr=0.0001): 0.7825\n"
     ]
    }
   ],
   "source": [
    "import numpy as np\n",
    "import tensorflow as tf\n",
    "from sklearn.model_selection import train_test_split\n",
    "\n",
    "# Load MFCC features and labels (n_mfcc=13)\n",
    "X_13 = np.load('mfcc_13_features.npy')\n",
    "y_13 = np.load('mfcc_13_labels.npy')\n",
    "\n",
    "# Reshape features for CNN (add channel dimension)\n",
    "X_13 = X_13[..., np.newaxis]  # Shape: (2000, 13, 32, 1)\n",
    "\n",
    "# Split data into training and testing sets\n",
    "X_train, X_test, y_train, y_test = train_test_split(X_13, y_13, test_size=0.2, random_state=42)\n",
    "print(f\"Training samples: {X_train.shape[0]}, Test samples: {X_test.shape[0]}\")\n",
    "print(f\"Feature shape: {X_train.shape}, Label shape: {y_train.shape}\")\n",
    "\n",
    "# Define CNN model\n",
    "def create_cnn_model(input_shape, num_classes):\n",
    "    model = tf.keras.Sequential([\n",
    "        tf.keras.layers.Input(shape=input_shape),\n",
    "        tf.keras.layers.Conv2D(32, (3, 3), activation='relu', padding='valid'),\n",
    "        tf.keras.layers.MaxPooling2D((2, 2)),\n",
    "        tf.keras.layers.Conv2D(64, (3, 3), activation='relu', padding='valid'),\n",
    "        tf.keras.layers.MaxPooling2D((2, 2)),\n",
    "        tf.keras.layers.Flatten(),\n",
    "        tf.keras.layers.Dense(128, activation='relu'),\n",
    "        tf.keras.layers.Dropout(0.5),\n",
    "        tf.keras.layers.Dense(num_classes, activation='softmax')\n",
    "    ])\n",
    "    return model\n",
    "\n",
    "# Create and compile model with learning rate 0.001\n",
    "model_lr1 = create_cnn_model(input_shape=(13, 32, 1), num_classes=5)\n",
    "model_lr1.compile(optimizer=tf.keras.optimizers.Adam(learning_rate=0.001),\n",
    "                 loss='sparse_categorical_crossentropy',\n",
    "                 metrics=['accuracy'])\n",
    "model_lr1.summary()\n",
    "\n",
    "# Train model (learning rate 0.001)\n",
    "history_lr1 = model_lr1.fit(X_train, y_train, epochs=20, batch_size=32, \n",
    "                           validation_data=(X_test, y_test), verbose=1)\n",
    "\n",
    "# Save model\n",
    "model_lr1.save('cnn_model_lr1.h5')\n",
    "print(\"Model (lr=0.001) trained and saved!\")\n",
    "\n",
    "# Create and compile model with learning rate 0.0001 (hyperparameter tuning)\n",
    "model_lr2 = create_cnn_model(input_shape=(13, 32, 1), num_classes=5)\n",
    "model_lr2.compile(optimizer=tf.keras.optimizers.Adam(learning_rate=0.0001),\n",
    "                 loss='sparse_categorical_crossentropy',\n",
    "                 metrics=['accuracy'])\n",
    "\n",
    "# Train model (learning rate 0.0001)\n",
    "history_lr2 = model_lr2.fit(X_train, y_train, epochs=20, batch_size=32, \n",
    "                           validation_data=(X_test, y_test), verbose=1)\n",
    "\n",
    "# Save model\n",
    "model_lr2.save('cnn_model_lr2.h5')\n",
    "print(\"Model (lr=0.0001) trained and saved!\")\n",
    "\n",
    "# Evaluate both models on test set\n",
    "test_loss_lr1, test_acc_lr1 = model_lr1.evaluate(X_test, y_test, verbose=0)\n",
    "test_loss_lr2, test_acc_lr2 = model_lr2.evaluate(X_test, y_test, verbose=0)\n",
    "print(f\"Test accuracy (lr=0.001): {test_acc_lr1:.4f}\")\n",
    "print(f\"Test accuracy (lr=0.0001): {test_acc_lr2:.4f}\")"
   ]
  },
  {
   "cell_type": "code",
   "execution_count": null,
   "id": "0841e77b",
   "metadata": {},
   "outputs": [],
   "source": [
    " "
   ]
  },
  {
   "cell_type": "code",
   "execution_count": 6,
   "id": "9d49404b",
   "metadata": {},
   "outputs": [],
   "source": [
    "X_test = np.load('mfcc_13_features.npy')[int(0.8 * 2000):][..., np.newaxis]\n",
    "y_test = np.load('mfcc_13_labels.npy')[int(0.8 * 2000):]"
   ]
  },
  {
   "cell_type": "code",
   "execution_count": 7,
   "id": "087011f6",
   "metadata": {},
   "outputs": [
    {
     "name": "stdout",
     "output_type": "stream",
     "text": [
      "Test label distribution: {'cat': 83, 'no': 82, 'stop': 68, 'wow': 77, 'yes': 90}\n"
     ]
    },
    {
     "name": "stderr",
     "output_type": "stream",
     "text": [
      "WARNING:absl:Compiled the loaded model, but the compiled metrics have yet to be built. `model.compile_metrics` will be empty until you train or evaluate the model.\n"
     ]
    },
    {
     "name": "stdout",
     "output_type": "stream",
     "text": [
      "\u001b[1m13/13\u001b[0m \u001b[32m━━━━━━━━━━━━━━━━━━━━\u001b[0m\u001b[37m\u001b[0m \u001b[1m1s\u001b[0m 30ms/step\n",
      "Test Loss: 0.2394\n",
      "Test Accuracy: 0.9225\n",
      "\n",
      "Classification Report:\n",
      "              precision    recall  f1-score   support\n",
      "\n",
      "         cat       0.95      0.83      0.88        83\n",
      "          no       0.88      0.96      0.92        82\n",
      "        stop       0.94      0.96      0.95        68\n",
      "         wow       0.91      0.92      0.92        77\n",
      "         yes       0.94      0.94      0.94        90\n",
      "\n",
      "    accuracy                           0.92       400\n",
      "   macro avg       0.92      0.92      0.92       400\n",
      "weighted avg       0.92      0.92      0.92       400\n",
      "\n"
     ]
    },
    {
     "data": {
      "image/png": "[encoded data removed]",
      "text/plain": [
       "<Figure size 800x600 with 2 Axes>"
      ]
     },
     "metadata": {},
     "output_type": "display_data"
    },
    {
     "name": "stdout",
     "output_type": "stream",
     "text": [
      "Word Error Rate (WER): 0.0775\n"
     ]
    }
   ],
   "source": [
    "import numpy as np\n",
    "import tensorflow as tf\n",
    "from sklearn.model_selection import train_test_split\n",
    "from sklearn.metrics import confusion_matrix, classification_report\n",
    "import seaborn as sns\n",
    "import matplotlib.pyplot as plt\n",
    "from jiwer import wer\n",
    "\n",
    "# Load features and labels\n",
    "X_13 = np.load('mfcc_13_features.npy')\n",
    "y_13 = np.load('mfcc_13_labels.npy')\n",
    "X_13 = X_13[..., np.newaxis]  # Shape: (2000, 13, 32, 1)\n",
    "\n",
    "# Re-split data consistently with Step 4\n",
    "X_train, X_test, y_train, y_test = train_test_split(X_13, y_13, test_size=0.2, random_state=42)\n",
    "print(f\"Test label distribution: {dict(zip(['cat', 'no', 'stop', 'wow', 'yes'], np.bincount(y_test)))}\")\n",
    "\n",
    "# Save split data to avoid future mismatches\n",
    "np.save('X_test.npy', X_test)\n",
    "np.save('y_test.npy', y_test)\n",
    "\n",
    "# Load model\n",
    "model = tf.keras.models.load_model('cnn_model_lr1.h5')\n",
    "\n",
    "# Get predictions\n",
    "y_pred = model.predict(X_test)\n",
    "y_pred_labels = np.argmax(y_pred, axis=1)\n",
    "\n",
    "# Map numeric labels back to command names\n",
    "commands = [\"cat\", \"no\", \"stop\", \"wow\", \"yes\"]\n",
    "label_to_index = {label: idx for idx, label in enumerate(commands)}\n",
    "index_to_label = {idx: label for label, idx in label_to_index.items()}\n",
    "y_test_commands = [index_to_label[label] for label in y_test]\n",
    "y_pred_commands = [index_to_label[label] for label in y_pred_labels]\n",
    "\n",
    "# Evaluate accuracy and loss\n",
    "test_loss, test_accuracy = model.evaluate(X_test, y_test, verbose=0)\n",
    "print(f\"Test Loss: {test_loss:.4f}\")\n",
    "print(f\"Test Accuracy: {test_accuracy:.4f}\")\n",
    "\n",
    "# Classification report\n",
    "print(\"\\nClassification Report:\")\n",
    "print(classification_report(y_test, y_pred_labels, target_names=commands))\n",
    "\n",
    "# Confusion matrix\n",
    "cm = confusion_matrix(y_test, y_pred_labels)\n",
    "plt.figure(figsize=(8, 6))\n",
    "sns.heatmap(cm, annot=True, fmt='d', cmap='Blues', xticklabels=commands, yticklabels=commands)\n",
    "plt.title('Confusion Matrix')\n",
    "plt.xlabel('Predicted')\n",
    "plt.ylabel('True')\n",
    "plt.savefig('confusion_matrix_updated.png')\n",
    "plt.show()\n",
    "\n",
    "# Calculate WER\n",
    "wer_score = wer(y_test_commands, y_pred_commands)\n",
    "print(f\"Word Error Rate (WER): {wer_score:.4f}\")"
   ]
  },
  {
   "cell_type": "code",
   "execution_count": 8,
   "id": "68a2b2ee",
   "metadata": {},
   "outputs": [
    {
     "name": "stderr",
     "output_type": "stream",
     "text": [
      "WARNING:absl:Compiled the loaded model, but the compiled metrics have yet to be built. `model.compile_metrics` will be empty until you train or evaluate the model.\n"
     ]
    },
    {
     "name": "stdout",
     "output_type": "stream",
     "text": [
      "\u001b[1m13/13\u001b[0m \u001b[32m━━━━━━━━━━━━━━━━━━━━\u001b[0m\u001b[37m\u001b[0m \u001b[1m1s\u001b[0m 27ms/step\n",
      "Number of unique bigrams trained: 9\n",
      "Example bigram probabilities: {('cat', 'cat'): 0.19839679358717435, ('cat', 'no'): 0.002004008016032064, ('no', 'no'): 0.19839679358717435, ('no', 'stop'): 0.002004008016032064, ('stop', 'stop'): 0.19839679358717435}\n",
      "Test Accuracy with Language Model: 0.3450\n",
      "Word Error Rate (WER) with Language Model: 0.6550\n"
     ]
    }
   ],
   "source": [
    "import os\n",
    "import numpy as np\n",
    "import tensorflow as tf\n",
    "from nltk import bigrams, FreqDist\n",
    "from nltk.tokenize import word_tokenize\n",
    "from collections import defaultdict\n",
    "from sklearn.metrics import accuracy_score\n",
    "\n",
    "# Load test data and model\n",
    "X_test = np.load('X_test.npy')\n",
    "y_test = np.load('y_test.npy')\n",
    "model = tf.keras.models.load_model('cnn_model_lr1.h5')\n",
    "\n",
    "# Get original predictions\n",
    "y_pred = model.predict(X_test)\n",
    "y_pred_labels = np.argmax(y_pred, axis=1)\n",
    "\n",
    "# Collect command sequences (simulate sequences from dataset)\n",
    "extract_path = r\"C:\\Users\\PMLS\\Pictures\\SPEECH_COMMAND_DATASET\"\n",
    "commands = [\"cat\", \"no\", \"stop\", \"wow\", \"yes\"]\n",
    "command_sequences = []\n",
    "\n",
    "for command in commands:\n",
    "    folder_path = os.path.join(extract_path, command)\n",
    "    files = [f for f in os.listdir(folder_path) if f.endswith('.wav')]\n",
    "    command_sequences.extend([command] * min(100, len(files)))  # Limit to 100 samples per command\n",
    "\n",
    "# Train bigram language model\n",
    "tokenized_text = [word_tokenize(' '.join(command_sequences))]\n",
    "all_bigrams = list(bigrams(tokenized_text[0]))\n",
    "bigram_freq = FreqDist(all_bigrams)\n",
    "total_bigrams = sum(bigram_freq.values())\n",
    "bigram_probs = defaultdict(lambda: 0)\n",
    "for (w1, w2), freq in bigram_freq.items():\n",
    "    bigram_probs[(w1, w2)] = freq / total_bigrams\n",
    "\n",
    "print(f\"Number of unique bigrams trained: {len(bigram_freq)}\")\n",
    "print(f\"Example bigram probabilities: {dict(list(bigram_probs.items())[:5])}\")\n",
    "\n",
    "# Rescore predictions with language model (simple approach for single words)\n",
    "y_pred_lm = y_pred_labels.copy()\n",
    "for i in range(len(y_pred_labels)):\n",
    "    # For each prediction, check if it aligns with likely bigram transitions\n",
    "    current_pred = index_to_label[y_pred_labels[i]]  # From Step 5\n",
    "    # Simulate context (use previous prediction or random context for first)\n",
    "    context = index_to_label[y_pred_labels[max(0, i-1)]] if i > 0 else \"start\"\n",
    "    # Rescore based on bigram probability (if low, keep original; if high, adjust)\n",
    "    if bigram_probs[(context, current_pred)] < 0.01 and i > 0:\n",
    "        # Fallback to most likely next word based on unigram frequency\n",
    "        unigram_freq = FreqDist(command_sequences)\n",
    "        most_likely = max(commands, key=lambda x: unigram_freq[x])\n",
    "        y_pred_lm[i] = label_to_index[most_likely]\n",
    "\n",
    "# Evaluate updated predictions\n",
    "accuracy_lm = accuracy_score(y_test, y_pred_lm)\n",
    "print(f\"Test Accuracy with Language Model: {accuracy_lm:.4f}\")\n",
    "\n",
    "# Calculate updated WER\n",
    "y_pred_commands_lm = [index_to_label[label] for label in y_pred_lm]\n",
    "wer_score_lm = wer(y_test_commands, y_pred_commands_lm)\n",
    "print(f\"Word Error Rate (WER) with Language Model: {wer_score_lm:.4f}\")"
   ]
  },
  {
   "cell_type": "code",
   "execution_count": 9,
   "id": "24497600",
   "metadata": {},
   "outputs": [
    {
     "name": "stderr",
     "output_type": "stream",
     "text": [
      "WARNING:absl:Compiled the loaded model, but the compiled metrics have yet to be built. `model.compile_metrics` will be empty until you train or evaluate the model.\n"
     ]
    },
    {
     "name": "stdout",
     "output_type": "stream",
     "text": [
      "\u001b[1m1/1\u001b[0m \u001b[32m━━━━━━━━━━━━━━━━━━━━\u001b[0m\u001b[37m\u001b[0m \u001b[1m0s\u001b[0m 432ms/step\n",
      "MFCC Extraction Time: 128.39 ms\n",
      "Model Inference Time: 660.35 ms\n",
      "Total Latency: 788.73 ms\n"
     ]
    }
   ],
   "source": [
    "import time\n",
    "import librosa\n",
    "import numpy as np\n",
    "import tensorflow as tf\n",
    "\n",
    "# Load one audio file (replace with a path from your dataset)\n",
    "audio_file = audio_files[0]  # Use one file from your audio_files list\n",
    "sr = 16000\n",
    "max_frames = 32\n",
    "n_mfcc = 13\n",
    "\n",
    "# Measure MFCC extraction time\n",
    "start_time = time.time()\n",
    "audio, _ = librosa.load(audio_file, sr=sr)\n",
    "mfcc = librosa.feature.mfcc(y=audio, sr=sr, n_mfcc=n_mfcc)\n",
    "if mfcc.shape[1] < max_frames:\n",
    "    mfcc = np.pad(mfcc, ((0, 0), (0, max_frames - mfcc.shape[1])), mode='constant')\n",
    "else:\n",
    "    mfcc = mfcc[:, :max_frames]\n",
    "mfcc = mfcc[np.newaxis, ..., np.newaxis]  # Shape: (1, 13, 32, 1)\n",
    "mfcc_time = time.time() - start_time\n",
    "\n",
    "# Load model\n",
    "model = tf.keras.models.load_model('cnn_model_lr1.h5')\n",
    "\n",
    "# Measure inference time\n",
    "start_time = time.time()\n",
    "prediction = model.predict(mfcc)\n",
    "inference_time = time.time() - start_time\n",
    "\n",
    "# Print results\n",
    "print(f\"MFCC Extraction Time: {mfcc_time*1000:.2f} ms\")\n",
    "print(f\"Model Inference Time: {inference_time*1000:.2f} ms\")\n",
    "print(f\"Total Latency: {(mfcc_time + inference_time)*1000:.2f} ms\")"
   ]
  },
  {
   "cell_type": "code",
   "execution_count": 11,
   "id": "49bce224",
   "metadata": {},
   "outputs": [
    {
     "name": "stderr",
     "output_type": "stream",
     "text": [
      "WARNING:absl:Compiled the loaded model, but the compiled metrics have yet to be built. `model.compile_metrics` will be empty until you train or evaluate the model.\n"
     ]
    },
    {
     "name": "stdout",
     "output_type": "stream",
     "text": [
      "\u001b[1m13/13\u001b[0m \u001b[32m━━━━━━━━━━━━━━━━━━━━\u001b[0m\u001b[37m\u001b[0m \u001b[1m0s\u001b[0m 11ms/step\n",
      "SNR 0 dB - Accuracy: 0.5725, WER: 0.4275\n",
      "\u001b[1m13/13\u001b[0m \u001b[32m━━━━━━━━━━━━━━━━━━━━\u001b[0m\u001b[37m\u001b[0m \u001b[1m0s\u001b[0m 5ms/step \n",
      "SNR 10 dB - Accuracy: 0.7650, WER: 0.2350\n",
      "\u001b[1m13/13\u001b[0m \u001b[32m━━━━━━━━━━━━━━━━━━━━\u001b[0m\u001b[37m\u001b[0m \u001b[1m0s\u001b[0m 8ms/step\n",
      "SNR 20 dB - Accuracy: 0.8475, WER: 0.1525\n",
      "Noise evaluation results saved.\n"
     ]
    }
   ],
   "source": [
    "import numpy as np\n",
    "import librosa\n",
    "import tensorflow as tf\n",
    "from jiwer import wer\n",
    "from sklearn.metrics import accuracy_score\n",
    "from sklearn.model_selection import train_test_split\n",
    "import os\n",
    "\n",
    "# Load test data and model\n",
    "X_test = np.load('X_test.npy')  # Original MFCC features\n",
    "y_test = np.load('y_test.npy')  # Numeric labels\n",
    "model = tf.keras.models.load_model('cnn_model_lr1.h5')\n",
    "\n",
    "# Reconstruct original audio_files and labels (from Step 2 of your notebook)\n",
    "extract_path = r\"C:\\Users\\PMLS\\Pictures\\SPEECH_COMMAND_DATASET\"\n",
    "commands = [\"cat\", \"no\", \"stop\", \"wow\", \"yes\"]\n",
    "max_files_per_command = 400\n",
    "audio_files = []\n",
    "labels = []\n",
    "\n",
    "for command in commands:\n",
    "    folder_path = os.path.join(extract_path, command)\n",
    "    files = [f for f in os.listdir(folder_path) if f.endswith('.wav')]\n",
    "    selected_files = files[:min(len(files), max_files_per_command)]\n",
    "    audio_files.extend([os.path.join(folder_path, f) for f in selected_files])\n",
    "    labels.extend([command] * len(selected_files))\n",
    "\n",
    "label_to_index = {label: idx for idx, label in enumerate(commands)}\n",
    "numeric_labels = np.array([label_to_index[label] for label in labels])\n",
    "\n",
    "# Get test indices from original split\n",
    "X_13 = np.load('mfcc_13_features.npy')\n",
    "_, test_indices = train_test_split(range(len(X_13)), test_size=0.2, random_state=42)\n",
    "\n",
    "# Select audio files for test set\n",
    "test_audio_files = [audio_files[i] for i in test_indices]\n",
    "test_labels = [numeric_labels[i] for i in test_indices]\n",
    "\n",
    "# Verify alignment\n",
    "assert len(test_audio_files) == len(y_test), \"Mismatch between test audio files and y_test\"\n",
    "assert np.array_equal(test_labels, y_test), \"Test labels do not match y_test\"\n",
    "\n",
    "# Function to add Gaussian noise\n",
    "def add_noise(audio, snr_db):\n",
    "    signal_power = np.mean(audio**2)\n",
    "    snr_linear = 10**(snr_db / 10)\n",
    "    noise_power = signal_power / snr_linear\n",
    "    noise = np.random.normal(0, np.sqrt(noise_power), len(audio))\n",
    "    noisy_audio = audio + noise\n",
    "    return noisy_audio\n",
    "\n",
    "# Function to extract MFCCs\n",
    "def extract_mfcc(audio, sr=16000, n_mfcc=13, max_frames=32):\n",
    "    mfcc = librosa.feature.mfcc(y=audio, sr=sr, n_mfcc=n_mfcc)\n",
    "    if mfcc.shape[1] < max_frames:\n",
    "        mfcc = np.pad(mfcc, ((0, 0), (0, max_frames - mfcc.shape[1])), mode='constant')\n",
    "    else:\n",
    "        mfcc = mfcc[:, :max_frames]\n",
    "    return mfcc\n",
    "\n",
    "# Evaluate model on noisy data\n",
    "snr_levels = [0, 10, 20]  # Different SNR levels (dB)\n",
    "results = {}\n",
    "index_to_label = {idx: label for label, idx in label_to_index.items()}\n",
    "\n",
    "for snr in snr_levels:\n",
    "    noisy_features = []\n",
    "    for audio_file in test_audio_files:\n",
    "        try:\n",
    "            audio, sr = librosa.load(audio_file, sr=16000)\n",
    "            noisy_audio = add_noise(audio, snr)\n",
    "            mfcc = extract_mfcc(noisy_audio, sr=sr, n_mfcc=13, max_frames=32)\n",
    "            noisy_features.append(mfcc)\n",
    "        except Exception as e:\n",
    "            print(f\"Error processing {audio_file}: {e}\")\n",
    "    \n",
    "    noisy_features = np.array(noisy_features)[..., np.newaxis]  # Shape: (n_samples, 13, 32, 1)\n",
    "    \n",
    "    # Predict\n",
    "    y_pred = model.predict(noisy_features)\n",
    "    y_pred_labels = np.argmax(y_pred, axis=1)\n",
    "    \n",
    "    # Map to command names\n",
    "    y_test_commands = [index_to_label[label] for label in y_test]\n",
    "    y_pred_commands = [index_to_label[label] for label in y_pred_labels]\n",
    "    \n",
    "    # Calculate metrics\n",
    "    accuracy = accuracy_score(y_test, y_pred_labels)\n",
    "    wer_score = wer(y_test_commands, y_pred_commands)\n",
    "    \n",
    "    results[snr] = {'accuracy': accuracy, 'wer': wer_score}\n",
    "    print(f\"SNR {snr} dB - Accuracy: {accuracy:.4f}, WER: {wer_score:.4f}\")\n",
    "\n",
    "# Save results\n",
    "np.save('noise_results.npy', results)\n",
    "print(\"Noise evaluation results saved.\")"
   ]
  },
  {
   "cell_type": "code",
   "execution_count": 12,
   "id": "e265cdc0",
   "metadata": {},
   "outputs": [
    {
     "data": {
      "image/png": "[encoded data removed]",
      "text/plain": [
       "<Figure size 1000x600 with 1 Axes>"
      ]
     },
     "metadata": {},
     "output_type": "display_data"
    }
   ],
   "source": [
    "import numpy as np\n",
    "import matplotlib.pyplot as plt\n",
    "import seaborn as sns\n",
    "\n",
    "# Load noise evaluation results\n",
    "results = np.load('noise_results.npy', allow_pickle=True).item()\n",
    "\n",
    "# Prepare data for plotting\n",
    "snr_levels = [0, 10, 20]\n",
    "accuracies = [results[snr]['accuracy'] for snr in snr_levels]\n",
    "wers = [results[snr]['wer'] for snr in snr_levels]\n",
    "\n",
    "# Set up the plot\n",
    "plt.figure(figsize=(10, 6))\n",
    "bar_width = 0.35\n",
    "index = np.arange(len(snr_levels))\n",
    "\n",
    "# Plot accuracy and WER bars\n",
    "plt.bar(index, accuracies, bar_width, label='Accuracy', color='blue', alpha=0.6)\n",
    "plt.bar(index + bar_width, wers, bar_width, label='WER', color='orange', alpha=0.6)\n",
    "\n",
    "# Customize plot\n",
    "plt.xlabel('SNR (dB)')\n",
    "plt.ylabel('Metric Value')\n",
    "plt.title('Model Performance under Different Noise Levels')\n",
    "plt.xticks(index + bar_width / 2, snr_levels)\n",
    "plt.legend()\n",
    "plt.grid(True, alpha=0.3)\n",
    "\n",
    "# Save and show plot\n",
    "plt.savefig('noise_performance_plot.png')\n",
    "plt.show()"
   ]
  },
  {
   "cell_type": "code",
   "execution_count": 14,
   "id": "ef96a43c",
   "metadata": {},
   "outputs": [
    {
     "name": "stderr",
     "output_type": "stream",
     "text": [
      "WARNING:absl:Compiled the loaded model, but the compiled metrics have yet to be built. `model.compile_metrics` will be empty until you train or evaluate the model.\n"
     ]
    },
    {
     "name": "stdout",
     "output_type": "stream",
     "text": [
      "Unique values in y_test: [0 1 2 3 4]\n",
      "Unique values in y_test_corrected: [0 1 2 3 4]\n",
      "\u001b[1m13/13\u001b[0m \u001b[32m━━━━━━━━━━━━━━━━━━━━\u001b[0m\u001b[37m\u001b[0m \u001b[1m0s\u001b[0m 12ms/step\n",
      "Number of unique bigrams trained: 20\n",
      "Example bigram probabilities: {('turn', 'on'): 0.08350730688935282, ('on', 'cat'): 0.04175365344467641, ('cat', 'turn'): 0.081419624217119, ('turn', 'off'): 0.08350730688935282, ('off', 'cat'): 0.04175365344467641}\n",
      "Baseline Accuracy: 0.9225, WER: 0.0775\n",
      "Improved LM Accuracy: 0.9250, WER: 0.0750\n"
     ]
    },
    {
     "data": {
      "image/png": "[encoded data removed]",
      "text/plain": [
       "<Figure size 800x600 with 1 Axes>"
      ]
     },
     "metadata": {},
     "output_type": "display_data"
    }
   ],
   "source": [
    "import numpy as np\n",
    "import tensorflow as tf\n",
    "from nltk import bigrams, FreqDist\n",
    "from nltk.tokenize import word_tokenize\n",
    "from collections import defaultdict\n",
    "from sklearn.metrics import accuracy_score\n",
    "import matplotlib.pyplot as plt\n",
    "from sklearn.model_selection import train_test_split\n",
    "\n",
    "# Load test data and model\n",
    "X_test = np.load('X_test.npy')\n",
    "y_test = np.load('y_test.npy')\n",
    "model = tf.keras.models.load_model('cnn_model_lr1.h5')\n",
    "\n",
    "# Debug: Check unique values in y_test\n",
    "print(\"Unique values in y_test:\", np.unique(y_test))\n",
    "\n",
    "# Reconstruct original labels to ensure consistency (from Step 2)\n",
    "commands = [\"cat\", \"no\", \"stop\", \"wow\", \"yes\"]\n",
    "label_to_index = {label: idx for idx, label in enumerate(commands)}\n",
    "index_to_label = {idx: label for label, idx in label_to_index.items()}\n",
    "\n",
    "# Recompute y_test to ensure correct labels\n",
    "X_13 = np.load('mfcc_13_features.npy')\n",
    "y_13 = np.load('mfcc_13_labels.npy')\n",
    "_, X_test_indices = train_test_split(range(len(X_13)), test_size=0.2, random_state=42)\n",
    "y_test_corrected = y_13[X_test_indices]\n",
    "\n",
    "# Verify corrected labels\n",
    "print(\"Unique values in y_test_corrected:\", np.unique(y_test_corrected))\n",
    "assert all(label in index_to_label for label in y_test_corrected), \"y_test_corrected contains invalid labels\"\n",
    "\n",
    "# Get baseline predictions\n",
    "y_pred_baseline = model.predict(X_test)\n",
    "y_pred_labels_baseline = np.argmax(y_pred_baseline, axis=1)\n",
    "\n",
    "# Map numeric labels to command names\n",
    "y_test_commands = [index_to_label[label] for label in y_test_corrected]\n",
    "y_pred_commands_baseline = [index_to_label[label] for label in y_pred_labels_baseline]\n",
    "\n",
    "# Calculate baseline metrics\n",
    "baseline_accuracy = accuracy_score(y_test_corrected, y_pred_labels_baseline)\n",
    "baseline_wer = wer(y_test_commands, y_pred_commands_baseline)\n",
    "\n",
    "# Simulate realistic command sequences for language model training\n",
    "training_sequences = [\n",
    "    \"turn on cat\", \"turn off cat\", \"stop wow\", \"no stop\", \"yes wow\",\n",
    "    \"turn on stop\", \"turn off stop\", \"yes no\", \"no yes\", \"stop cat\"\n",
    "] * 20  # Repeat to simulate more data\n",
    "tokenized_text = [word_tokenize(' '.join(training_sequences))]\n",
    "all_bigrams = list(bigrams(tokenized_text[0]))\n",
    "bigram_freq = FreqDist(all_bigrams)\n",
    "total_bigrams = sum(bigram_freq.values())\n",
    "bigram_probs = defaultdict(lambda: 1e-10)  # Smoothing\n",
    "for (w1, w2), freq in bigram_freq.items():\n",
    "    bigram_probs[(w1, w2)] = freq / total_bigrams\n",
    "\n",
    "print(f\"Number of unique bigrams trained: {len(bigram_freq)}\")\n",
    "print(f\"Example bigram probabilities: {dict(list(bigram_probs.items())[:5])}\")\n",
    "\n",
    "# Improve prediction with language model\n",
    "y_pred_lm = y_pred_labels_baseline.copy()\n",
    "alpha = 0.7  # Weight for acoustic model\n",
    "\n",
    "for i in range(len(y_pred_labels_baseline)):\n",
    "    acoustic_score = y_pred_baseline[i, y_pred_labels_baseline[i]]\n",
    "    context = index_to_label[y_pred_labels_baseline[max(0, i-1)]] if i > 0 else \"start\"\n",
    "    language_score = bigram_probs[(context, index_to_label[y_pred_labels_baseline[i]])]\n",
    "    combined_score = alpha * acoustic_score + (1 - alpha) * language_score\n",
    "    for cmd_idx in range(len(commands)):\n",
    "        cmd = index_to_label[cmd_idx]\n",
    "        lang_score = bigram_probs[(context, cmd)]\n",
    "        combined = alpha * y_pred_baseline[i, cmd_idx] + (1 - alpha) * lang_score\n",
    "        if combined > combined_score:\n",
    "            combined_score = combined\n",
    "            y_pred_lm[i] = cmd_idx\n",
    "\n",
    "# Calculate improved metrics\n",
    "y_pred_commands_lm = [index_to_label[label] for label in y_pred_lm]\n",
    "lm_accuracy = accuracy_score(y_test_corrected, y_pred_lm)\n",
    "lm_wer = wer(y_test_commands, y_pred_commands_lm)\n",
    "\n",
    "# Print results\n",
    "print(f\"Baseline Accuracy: {baseline_accuracy:.4f}, WER: {baseline_wer:.4f}\")\n",
    "print(f\"Improved LM Accuracy: {lm_accuracy:.4f}, WER: {lm_wer:.4f}\")\n",
    "\n",
    "# Visualize comparison\n",
    "metrics = ['Accuracy', 'WER']\n",
    "baseline_values = [baseline_accuracy, baseline_wer]\n",
    "lm_values = [lm_accuracy, lm_wer]\n",
    "\n",
    "plt.figure(figsize=(8, 6))\n",
    "bar_width = 0.35\n",
    "index = np.arange(len(metrics))\n",
    "\n",
    "plt.bar(index, baseline_values, bar_width, label='Baseline', color='skyblue', alpha=0.6)\n",
    "plt.bar(index + bar_width, lm_values, bar_width, label='With Language Model', color='lightgreen', alpha=0.6)\n",
    "\n",
    "plt.xlabel('Metric')\n",
    "plt.ylabel('Value')\n",
    "plt.title('Baseline vs. Improved Language Model Performance')\n",
    "plt.xticks(index + bar_width / 2, metrics)\n",
    "plt.legend()\n",
    "plt.grid(True, alpha=0.3)\n",
    "plt.ylim(0, 1)\n",
    "plt.savefig('lm_performance_comparison.png')\n",
    "plt.show()"
   ]
  },
  {
   "cell_type": "code",
   "execution_count": 17,
   "id": "9bf9a2d1",
   "metadata": {},
   "outputs": [
    {
     "name": "stderr",
     "output_type": "stream",
     "text": [
      "WARNING:absl:Compiled the loaded model, but the compiled metrics have yet to be built. `model.compile_metrics` will be empty until you train or evaluate the model.\n"
     ]
    },
    {
     "name": "stdout",
     "output_type": "stream",
     "text": [
      "WARNING:tensorflow:5 out of the last 16 calls to <function TensorFlowTrainer.make_predict_function.<locals>.one_step_on_data_distributed at 0x0000029C3B9BA200> triggered tf.function retracing. Tracing is expensive and the excessive number of tracings could be due to (1) creating @tf.function repeatedly in a loop, (2) passing tensors with different shapes, (3) passing Python objects instead of tensors. For (1), please define your @tf.function outside of the loop. For (2), @tf.function has reduce_retracing=True option that can avoid unnecessary retracing. For (3), please refer to https://www.tensorflow.org/guide/function#controlling_retracing and https://www.tensorflow.org/api_docs/python/tf/function for  more details.\n"
     ]
    },
    {
     "name": "stderr",
     "output_type": "stream",
     "text": [
      "WARNING:tensorflow:5 out of the last 16 calls to <function TensorFlowTrainer.make_predict_function.<locals>.one_step_on_data_distributed at 0x0000029C3B9BA200> triggered tf.function retracing. Tracing is expensive and the excessive number of tracings could be due to (1) creating @tf.function repeatedly in a loop, (2) passing tensors with different shapes, (3) passing Python objects instead of tensors. For (1), please define your @tf.function outside of the loop. For (2), @tf.function has reduce_retracing=True option that can avoid unnecessary retracing. For (3), please refer to https://www.tensorflow.org/guide/function#controlling_retracing and https://www.tensorflow.org/api_docs/python/tf/function for  more details.\n"
     ]
    },
    {
     "name": "stdout",
     "output_type": "stream",
     "text": [
      "\u001b[1m1/1\u001b[0m \u001b[32m━━━━━━━━━━━━━━━━━━━━\u001b[0m\u001b[37m\u001b[0m \u001b[1m0s\u001b[0m 183ms/step\n",
      "WARNING:tensorflow:6 out of the last 17 calls to <function TensorFlowTrainer.make_predict_function.<locals>.one_step_on_data_distributed at 0x0000029C3BAF5D00> triggered tf.function retracing. Tracing is expensive and the excessive number of tracings could be due to (1) creating @tf.function repeatedly in a loop, (2) passing tensors with different shapes, (3) passing Python objects instead of tensors. For (1), please define your @tf.function outside of the loop. For (2), @tf.function has reduce_retracing=True option that can avoid unnecessary retracing. For (3), please refer to https://www.tensorflow.org/guide/function#controlling_retracing and https://www.tensorflow.org/api_docs/python/tf/function for  more details.\n"
     ]
    },
    {
     "name": "stderr",
     "output_type": "stream",
     "text": [
      "WARNING:tensorflow:6 out of the last 17 calls to <function TensorFlowTrainer.make_predict_function.<locals>.one_step_on_data_distributed at 0x0000029C3BAF5D00> triggered tf.function retracing. Tracing is expensive and the excessive number of tracings could be due to (1) creating @tf.function repeatedly in a loop, (2) passing tensors with different shapes, (3) passing Python objects instead of tensors. For (1), please define your @tf.function outside of the loop. For (2), @tf.function has reduce_retracing=True option that can avoid unnecessary retracing. For (3), please refer to https://www.tensorflow.org/guide/function#controlling_retracing and https://www.tensorflow.org/api_docs/python/tf/function for  more details.\n"
     ]
    },
    {
     "name": "stdout",
     "output_type": "stream",
     "text": [
      "\u001b[1m1/1\u001b[0m \u001b[32m━━━━━━━━━━━━━━━━━━━━\u001b[0m\u001b[37m\u001b[0m \u001b[1m0s\u001b[0m 123ms/step\n",
      "Baseline MFCC Time: 11.09 ms, Inference Time: 267.38 ms, Total: 278.46 ms\n",
      "Optimized MFCC Time: 3.02 ms, Inference Time: 183.19 ms, Total: 186.21 ms\n"
     ]
    },
    {
     "data": {
      "image/png": "[encoded data removed]",
      "text/plain": [
       "<Figure size 1000x600 with 1 Axes>"
      ]
     },
     "metadata": {},
     "output_type": "display_data"
    }
   ],
   "source": [
    "import numpy as np\n",
    "import librosa\n",
    "import tensorflow as tf\n",
    "import time\n",
    "import matplotlib.pyplot as plt\n",
    "import os\n",
    "from sklearn.model_selection import train_test_split\n",
    "\n",
    "# Load a sample audio file for latency testing\n",
    "extract_path = r\"C:\\Users\\PMLS\\Pictures\\SPEECH_COMMAND_DATASET\"\n",
    "sample_file = os.path.join(extract_path, \"cat\", os.listdir(os.path.join(extract_path, \"cat\"))[0])\n",
    "audio, sr = librosa.load(sample_file, sr=16000)\n",
    "\n",
    "# Regenerate X_train and y_train (similar to Step 4 in your notebook)\n",
    "X_13 = np.load('mfcc_13_features.npy')\n",
    "y_13 = np.load('mfcc_13_labels.npy')\n",
    "X_train, X_test, y_train, y_test = train_test_split(X_13, y_13, test_size=0.2, random_state=42)\n",
    "\n",
    "# Add channel dimension to X_train and X_test to match CNN input\n",
    "X_train = X_train[..., np.newaxis]  # Shape: (n_samples, 13, 32, 1)\n",
    "X_test = X_test[..., np.newaxis]    # Shape: (n_samples, 13, 32, 1)\n",
    "\n",
    "# Baseline MFCC extraction (from your Step 6)\n",
    "def baseline_mfcc(audio, sr=16000, n_mfcc=13, max_frames=32):\n",
    "    start_time = time.time()\n",
    "    mfcc = librosa.feature.mfcc(y=audio, sr=sr, n_mfcc=n_mfcc)\n",
    "    if mfcc.shape[1] < max_frames:\n",
    "        mfcc = np.pad(mfcc, ((0, 0), (0, max_frames - mfcc.shape[1])), mode='constant')\n",
    "    else:\n",
    "        mfcc = mfcc[:, :max_frames]\n",
    "    elapsed = (time.time() - start_time) * 1000  # Convert to ms\n",
    "    return mfcc, elapsed\n",
    "\n",
    "# Optimized MFCC extraction\n",
    "def optimized_mfcc(audio, sr=16000, n_mfcc=13, max_frames=16):  # Reduce max_frames\n",
    "    start_time = time.time()\n",
    "    # Use a shorter window and hop length to speed up computation\n",
    "    mfcc = librosa.feature.mfcc(y=audio, sr=sr, n_mfcc=n_mfcc, n_fft=512, hop_length=256)\n",
    "    if mfcc.shape[1] < max_frames:\n",
    "        mfcc = np.pad(mfcc, ((0, 0), (0, max_frames - mfcc.shape[1])), mode='constant')\n",
    "    else:\n",
    "        mfcc = mfcc[:, :max_frames]\n",
    "    elapsed = (time.time() - start_time) * 1000\n",
    "    return mfcc, elapsed\n",
    "\n",
    "# Load original model\n",
    "original_model = tf.keras.models.load_model('cnn_model_lr1.h5')\n",
    "\n",
    "# Create a simplified model (fewer layers/filters)\n",
    "def create_simplified_model(input_shape, num_classes):\n",
    "    model = tf.keras.Sequential([\n",
    "        tf.keras.layers.Conv2D(16, (3, 3), activation='relu', input_shape=input_shape),\n",
    "        tf.keras.layers.MaxPooling2D((2, 2)),\n",
    "        tf.keras.layers.Flatten(),\n",
    "        tf.keras.layers.Dense(32, activation='relu'),\n",
    "        tf.keras.layers.Dense(num_classes, activation='softmax')\n",
    "    ])\n",
    "    model.compile(optimizer='adam', loss='sparse_categorical_crossentropy', metrics=['accuracy'])\n",
    "    return model\n",
    "\n",
    "# Measure baseline latency\n",
    "mfcc_baseline, mfcc_time_baseline = baseline_mfcc(audio)\n",
    "mfcc_baseline = mfcc_baseline[..., np.newaxis]  # Add channel dimension\n",
    "start_time = time.time()\n",
    "_ = original_model.predict(np.array([mfcc_baseline]))\n",
    "inference_time_baseline = (time.time() - start_time) * 1000\n",
    "total_time_baseline = mfcc_time_baseline + inference_time_baseline\n",
    "\n",
    "# Measure optimized latency\n",
    "mfcc_opt, mfcc_time_opt = optimized_mfcc(audio)\n",
    "mfcc_opt = mfcc_opt[..., np.newaxis]\n",
    "# Create and load simplified model (train minimally for inference testing)\n",
    "simplified_model = create_simplified_model(input_shape=(13, 16, 1), num_classes=5)\n",
    "X_train_opt = X_train[:, :, :16, :]  # Adjust for new max_frames\n",
    "simplified_model.fit(X_train_opt, y_train, epochs=1, batch_size=32, verbose=0)  # Minimal training\n",
    "start_time = time.time()\n",
    "_ = simplified_model.predict(np.array([mfcc_opt]))\n",
    "inference_time_opt = (time.time() - start_time) * 1000\n",
    "total_time_opt = mfcc_time_opt + inference_time_opt\n",
    "\n",
    "# Print results\n",
    "print(f\"Baseline MFCC Time: {mfcc_time_baseline:.2f} ms, Inference Time: {inference_time_baseline:.2f} ms, Total: {total_time_baseline:.2f} ms\")\n",
    "print(f\"Optimized MFCC Time: {mfcc_time_opt:.2f} ms, Inference Time: {inference_time_opt:.2f} ms, Total: {total_time_opt:.2f} ms\")\n",
    "\n",
    "# Visualize latency comparison\n",
    "labels = ['MFCC Extraction', 'Inference', 'Total']\n",
    "baseline_times = [mfcc_time_baseline, inference_time_baseline, total_time_baseline]\n",
    "optimized_times = [mfcc_time_opt, inference_time_opt, total_time_opt]\n",
    "\n",
    "plt.figure(figsize=(10, 6))\n",
    "bar_width = 0.35\n",
    "index = np.arange(len(labels))\n",
    "\n",
    "plt.bar(index, baseline_times, bar_width, label='Baseline', color='skyblue', alpha=0.6)\n",
    "plt.bar(index + bar_width, optimized_times, bar_width, label='Optimized', color='lightcoral', alpha=0.6)\n",
    "\n",
    "plt.xlabel('Stage')\n",
    "plt.ylabel('Time (ms)')\n",
    "plt.title('Baseline vs. Optimized Latency')\n",
    "plt.xticks(index + bar_width / 2, labels)\n",
    "plt.legend()\n",
    "plt.grid(True, alpha=0.3)\n",
    "plt.savefig('latency_comparison.png')\n",
    "plt.show()"
   ]
  },
  {
   "cell_type": "code",
   "execution_count": 18,
   "id": "e403c79a",
   "metadata": {},
   "outputs": [
    {
     "name": "stdout",
     "output_type": "stream",
     "text": [
      "Training with n_mfcc=10, learning_rate=0.001\n",
      "\u001b[1m13/13\u001b[0m \u001b[32m━━━━━━━━━━━━━━━━━━━━\u001b[0m\u001b[37m\u001b[0m \u001b[1m0s\u001b[0m 11ms/step\n",
      "n_mfcc=10, lr=0.001 -> Accuracy: 0.3100, WER: 0.6900\n",
      "Training with n_mfcc=10, learning_rate=0.01\n"
     ]
    },
    {
     "name": "stderr",
     "output_type": "stream",
     "text": [
      "C:\\Users\\PMLS\\anaconda3\\Lib\\site-packages\\keras\\src\\layers\\convolutional\\base_conv.py:107: UserWarning: Do not pass an `input_shape`/`input_dim` argument to a layer. When using Sequential models, prefer using an `Input(shape)` object as the first layer in the model instead.\n",
      "  super().__init__(activity_regularizer=activity_regularizer, **kwargs)\n"
     ]
    },
    {
     "name": "stdout",
     "output_type": "stream",
     "text": [
      "\u001b[1m13/13\u001b[0m \u001b[32m━━━━━━━━━━━━━━━━━━━━\u001b[0m\u001b[37m\u001b[0m \u001b[1m0s\u001b[0m 11ms/step\n",
      "n_mfcc=10, lr=0.01 -> Accuracy: 0.1675, WER: 0.8325\n",
      "Training with n_mfcc=10, learning_rate=0.1\n"
     ]
    },
    {
     "name": "stderr",
     "output_type": "stream",
     "text": [
      "C:\\Users\\PMLS\\anaconda3\\Lib\\site-packages\\keras\\src\\layers\\convolutional\\base_conv.py:107: UserWarning: Do not pass an `input_shape`/`input_dim` argument to a layer. When using Sequential models, prefer using an `Input(shape)` object as the first layer in the model instead.\n",
      "  super().__init__(activity_regularizer=activity_regularizer, **kwargs)\n"
     ]
    },
    {
     "name": "stdout",
     "output_type": "stream",
     "text": [
      "\u001b[1m13/13\u001b[0m \u001b[32m━━━━━━━━━━━━━━━━━━━━\u001b[0m\u001b[37m\u001b[0m \u001b[1m0s\u001b[0m 7ms/step\n",
      "n_mfcc=10, lr=0.1 -> Accuracy: 0.1925, WER: 0.8075\n",
      "Training with n_mfcc=13, learning_rate=0.001\n"
     ]
    },
    {
     "name": "stderr",
     "output_type": "stream",
     "text": [
      "C:\\Users\\PMLS\\anaconda3\\Lib\\site-packages\\keras\\src\\layers\\convolutional\\base_conv.py:107: UserWarning: Do not pass an `input_shape`/`input_dim` argument to a layer. When using Sequential models, prefer using an `Input(shape)` object as the first layer in the model instead.\n",
      "  super().__init__(activity_regularizer=activity_regularizer, **kwargs)\n"
     ]
    },
    {
     "name": "stdout",
     "output_type": "stream",
     "text": [
      "\u001b[1m13/13\u001b[0m \u001b[32m━━━━━━━━━━━━━━━━━━━━\u001b[0m\u001b[37m\u001b[0m \u001b[1m0s\u001b[0m 10ms/step\n",
      "n_mfcc=13, lr=0.001 -> Accuracy: 0.2850, WER: 0.7150\n",
      "Training with n_mfcc=13, learning_rate=0.01\n"
     ]
    },
    {
     "name": "stderr",
     "output_type": "stream",
     "text": [
      "C:\\Users\\PMLS\\anaconda3\\Lib\\site-packages\\keras\\src\\layers\\convolutional\\base_conv.py:107: UserWarning: Do not pass an `input_shape`/`input_dim` argument to a layer. When using Sequential models, prefer using an `Input(shape)` object as the first layer in the model instead.\n",
      "  super().__init__(activity_regularizer=activity_regularizer, **kwargs)\n"
     ]
    },
    {
     "name": "stdout",
     "output_type": "stream",
     "text": [
      "\u001b[1m13/13\u001b[0m \u001b[32m━━━━━━━━━━━━━━━━━━━━\u001b[0m\u001b[37m\u001b[0m \u001b[1m0s\u001b[0m 8ms/step\n",
      "n_mfcc=13, lr=0.01 -> Accuracy: 0.1700, WER: 0.8300\n",
      "Training with n_mfcc=13, learning_rate=0.1\n"
     ]
    },
    {
     "name": "stderr",
     "output_type": "stream",
     "text": [
      "C:\\Users\\PMLS\\anaconda3\\Lib\\site-packages\\keras\\src\\layers\\convolutional\\base_conv.py:107: UserWarning: Do not pass an `input_shape`/`input_dim` argument to a layer. When using Sequential models, prefer using an `Input(shape)` object as the first layer in the model instead.\n",
      "  super().__init__(activity_regularizer=activity_regularizer, **kwargs)\n"
     ]
    },
    {
     "name": "stdout",
     "output_type": "stream",
     "text": [
      "\u001b[1m13/13\u001b[0m \u001b[32m━━━━━━━━━━━━━━━━━━━━\u001b[0m\u001b[37m\u001b[0m \u001b[1m0s\u001b[0m 10ms/step\n",
      "n_mfcc=13, lr=0.1 -> Accuracy: 0.2250, WER: 0.7750\n",
      "Training with n_mfcc=16, learning_rate=0.001\n"
     ]
    },
    {
     "name": "stderr",
     "output_type": "stream",
     "text": [
      "C:\\Users\\PMLS\\anaconda3\\Lib\\site-packages\\keras\\src\\layers\\convolutional\\base_conv.py:107: UserWarning: Do not pass an `input_shape`/`input_dim` argument to a layer. When using Sequential models, prefer using an `Input(shape)` object as the first layer in the model instead.\n",
      "  super().__init__(activity_regularizer=activity_regularizer, **kwargs)\n"
     ]
    },
    {
     "name": "stdout",
     "output_type": "stream",
     "text": [
      "\u001b[1m13/13\u001b[0m \u001b[32m━━━━━━━━━━━━━━━━━━━━\u001b[0m\u001b[37m\u001b[0m \u001b[1m0s\u001b[0m 8ms/step\n",
      "n_mfcc=16, lr=0.001 -> Accuracy: 0.3500, WER: 0.6500\n",
      "Training with n_mfcc=16, learning_rate=0.01\n"
     ]
    },
    {
     "name": "stderr",
     "output_type": "stream",
     "text": [
      "C:\\Users\\PMLS\\anaconda3\\Lib\\site-packages\\keras\\src\\layers\\convolutional\\base_conv.py:107: UserWarning: Do not pass an `input_shape`/`input_dim` argument to a layer. When using Sequential models, prefer using an `Input(shape)` object as the first layer in the model instead.\n",
      "  super().__init__(activity_regularizer=activity_regularizer, **kwargs)\n"
     ]
    },
    {
     "name": "stdout",
     "output_type": "stream",
     "text": [
      "\u001b[1m13/13\u001b[0m \u001b[32m━━━━━━━━━━━━━━━━━━━━\u001b[0m\u001b[37m\u001b[0m \u001b[1m0s\u001b[0m 8ms/step\n",
      "n_mfcc=16, lr=0.01 -> Accuracy: 0.1700, WER: 0.8300\n",
      "Training with n_mfcc=16, learning_rate=0.1\n"
     ]
    },
    {
     "name": "stderr",
     "output_type": "stream",
     "text": [
      "C:\\Users\\PMLS\\anaconda3\\Lib\\site-packages\\keras\\src\\layers\\convolutional\\base_conv.py:107: UserWarning: Do not pass an `input_shape`/`input_dim` argument to a layer. When using Sequential models, prefer using an `Input(shape)` object as the first layer in the model instead.\n",
      "  super().__init__(activity_regularizer=activity_regularizer, **kwargs)\n"
     ]
    },
    {
     "name": "stdout",
     "output_type": "stream",
     "text": [
      "\u001b[1m13/13\u001b[0m \u001b[32m━━━━━━━━━━━━━━━━━━━━\u001b[0m\u001b[37m\u001b[0m \u001b[1m0s\u001b[0m 10ms/step\n",
      "n_mfcc=16, lr=0.1 -> Accuracy: 0.2250, WER: 0.7750\n"
     ]
    },
    {
     "data": {
      "image/png": "[encoded data removed]",
      "text/plain": [
       "<Figure size 800x600 with 2 Axes>"
      ]
     },
     "metadata": {},
     "output_type": "display_data"
    },
    {
     "data": {
      "image/png": "[encoded data removed]",
      "text/plain": [
       "<Figure size 800x600 with 2 Axes>"
      ]
     },
     "metadata": {},
     "output_type": "display_data"
    }
   ],
   "source": [
    "import numpy as np\n",
    "import librosa\n",
    "import tensorflow as tf\n",
    "from sklearn.model_selection import train_test_split\n",
    "from sklearn.metrics import accuracy_score\n",
    "from jiwer import wer\n",
    "import matplotlib.pyplot as plt\n",
    "import seaborn as sns\n",
    "import os\n",
    "\n",
    "# Load original data (audio files and labels)\n",
    "extract_path = r\"C:\\Users\\PMLS\\Pictures\\SPEECH_COMMAND_DATASET\"\n",
    "commands = [\"cat\", \"no\", \"stop\", \"wow\", \"yes\"]\n",
    "max_files_per_command = 400\n",
    "audio_files = []\n",
    "labels = []\n",
    "\n",
    "for command in commands:\n",
    "    folder_path = os.path.join(extract_path, command)\n",
    "    files = [f for f in os.listdir(folder_path) if f.endswith('.wav')]\n",
    "    selected_files = files[:min(len(files), max_files_per_command)]\n",
    "    audio_files.extend([os.path.join(folder_path, f) for f in selected_files])\n",
    "    labels.extend([command] * len(selected_files))\n",
    "\n",
    "label_to_index = {label: idx for idx, label in enumerate(commands)}\n",
    "index_to_label = {idx: label for label, idx in label_to_index.items()}\n",
    "numeric_labels = np.array([label_to_index[label] for label in labels])\n",
    "\n",
    "# Function to extract MFCCs with variable n_mfcc\n",
    "def extract_mfcc(audio, sr=16000, n_mfcc=13, max_frames=16):\n",
    "    mfcc = librosa.feature.mfcc(y=audio, sr=sr, n_mfcc=n_mfcc, n_fft=512, hop_length=256)\n",
    "    if mfcc.shape[1] < max_frames:\n",
    "        mfcc = np.pad(mfcc, ((0, 0), (0, max_frames - mfcc.shape[1])), mode='constant')\n",
    "    else:\n",
    "        mfcc = mfcc[:, :max_frames]\n",
    "    return mfcc\n",
    "\n",
    "# Simplified model (same as optimized model from previous step)\n",
    "def create_simplified_model(input_shape, num_classes, learning_rate):\n",
    "    model = tf.keras.Sequential([\n",
    "        tf.keras.layers.Conv2D(16, (3, 3), activation='relu', input_shape=input_shape),\n",
    "        tf.keras.layers.MaxPooling2D((2, 2)),\n",
    "        tf.keras.layers.Flatten(),\n",
    "        tf.keras.layers.Dense(32, activation='relu'),\n",
    "        tf.keras.layers.Dense(num_classes, activation='softmax')\n",
    "    ])\n",
    "    optimizer = tf.keras.optimizers.Adam(learning_rate=learning_rate)\n",
    "    model.compile(optimizer=optimizer, loss='sparse_categorical_crossentropy', metrics=['accuracy'])\n",
    "    return model\n",
    "\n",
    "# Hyperparameter settings\n",
    "n_mfcc_values = [10, 13, 16]\n",
    "learning_rates = [0.001, 0.01, 0.1]\n",
    "accuracy_results = np.zeros((len(n_mfcc_values), len(learning_rates)))\n",
    "wer_results = np.zeros((len(n_mfcc_values), len(learning_rates)))\n",
    "\n",
    "# Loop over n_mfcc values\n",
    "for i, n_mfcc in enumerate(n_mfcc_values):\n",
    "    # Extract MFCC features for all audio files with current n_mfcc\n",
    "    features = []\n",
    "    for audio_file in audio_files:\n",
    "        audio, sr = librosa.load(audio_file, sr=16000)\n",
    "        mfcc = extract_mfcc(audio, sr=sr, n_mfcc=n_mfcc, max_frames=16)\n",
    "        features.append(mfcc)\n",
    "    X = np.array(features)[..., np.newaxis]  # Shape: (n_samples, n_mfcc, 16, 1)\n",
    "    y = numeric_labels\n",
    "\n",
    "    # Train-test split\n",
    "    X_train, X_test, y_train, y_test = train_test_split(X, y, test_size=0.2, random_state=42)\n",
    "\n",
    "    # Loop over learning rates\n",
    "    for j, lr in enumerate(learning_rates):\n",
    "        print(f\"Training with n_mfcc={n_mfcc}, learning_rate={lr}\")\n",
    "        model = create_simplified_model(input_shape=(n_mfcc, 16, 1), num_classes=5, learning_rate=lr)\n",
    "        model.fit(X_train, y_train, epochs=5, batch_size=32, verbose=0)\n",
    "\n",
    "        # Evaluate on test set\n",
    "        y_pred = model.predict(X_test)\n",
    "        y_pred_labels = np.argmax(y_pred, axis=1)\n",
    "\n",
    "        # Map to command names for WER\n",
    "        y_test_commands = [index_to_label[label] for label in y_test]\n",
    "        y_pred_commands = [index_to_label[label] for label in y_pred_labels]\n",
    "\n",
    "        # Calculate metrics\n",
    "        accuracy = accuracy_score(y_test, y_pred_labels)\n",
    "        wer_score = wer(y_test_commands, y_pred_commands)\n",
    "\n",
    "        accuracy_results[i, j] = accuracy\n",
    "        wer_results[i, j] = wer_score\n",
    "        print(f\"n_mfcc={n_mfcc}, lr={lr} -> Accuracy: {accuracy:.4f}, WER: {wer_score:.4f}\")\n",
    "\n",
    "# Visualize accuracy results with a heatmap\n",
    "plt.figure(figsize=(8, 6))\n",
    "sns.heatmap(accuracy_results, annot=True, fmt=\".4f\", xticklabels=learning_rates, yticklabels=n_mfcc_values, cmap=\"YlGnBu\")\n",
    "plt.xlabel('Learning Rate')\n",
    "plt.ylabel('Number of MFCC Coefficients')\n",
    "plt.title('Accuracy for Different Hyperparameters')\n",
    "plt.savefig('hyperparameter_accuracy_heatmap.png')\n",
    "plt.show()\n",
    "\n",
    "# Visualize WER results with a heatmap\n",
    "plt.figure(figsize=(8, 6))\n",
    "sns.heatmap(wer_results, annot=True, fmt=\".4f\", xticklabels=learning_rates, yticklabels=n_mfcc_values, cmap=\"YlOrRd\")\n",
    "plt.xlabel('Learning Rate')\n",
    "plt.ylabel('Number of MFCC Coefficients')\n",
    "plt.title('WER for Different Hyperparameters')\n",
    "plt.savefig('hyperparameter_wer_heatmap.png')\n",
    "plt.show()"
   ]
  },
  {
   "cell_type": "code",
   "execution_count": 19,
   "id": "caafa1f6",
   "metadata": {},
   "outputs": [
    {
     "name": "stderr",
     "output_type": "stream",
     "text": [
      "C:\\Users\\PMLS\\anaconda3\\Lib\\site-packages\\keras\\src\\layers\\convolutional\\base_conv.py:107: UserWarning: Do not pass an `input_shape`/`input_dim` argument to a layer. When using Sequential models, prefer using an `Input(shape)` object as the first layer in the model instead.\n",
      "  super().__init__(activity_regularizer=activity_regularizer, **kwargs)\n"
     ]
    },
    {
     "name": "stdout",
     "output_type": "stream",
     "text": [
      "Epoch 1/10\n",
      "\u001b[1m50/50\u001b[0m \u001b[32m━━━━━━━━━━━━━━━━━━━━\u001b[0m\u001b[37m\u001b[0m \u001b[1m3s\u001b[0m 8ms/step - accuracy: 0.2062 - loss: 7.8161\n",
      "Epoch 2/10\n",
      "\u001b[1m50/50\u001b[0m \u001b[32m━━━━━━━━━━━━━━━━━━━━\u001b[0m\u001b[37m\u001b[0m \u001b[1m0s\u001b[0m 8ms/step - accuracy: 0.2615 - loss: 1.5641\n",
      "Epoch 3/10\n",
      "\u001b[1m50/50\u001b[0m \u001b[32m━━━━━━━━━━━━━━━━━━━━\u001b[0m\u001b[37m\u001b[0m \u001b[1m0s\u001b[0m 8ms/step - accuracy: 0.2627 - loss: 1.5355\n",
      "Epoch 4/10\n",
      "\u001b[1m50/50\u001b[0m \u001b[32m━━━━━━━━━━━━━━━━━━━━\u001b[0m\u001b[37m\u001b[0m \u001b[1m0s\u001b[0m 7ms/step - accuracy: 0.2720 - loss: 1.5298\n",
      "Epoch 5/10\n",
      "\u001b[1m50/50\u001b[0m \u001b[32m━━━━━━━━━━━━━━━━━━━━\u001b[0m\u001b[37m\u001b[0m \u001b[1m0s\u001b[0m 7ms/step - accuracy: 0.2941 - loss: 1.5106\n",
      "Epoch 6/10\n",
      "\u001b[1m50/50\u001b[0m \u001b[32m━━━━━━━━━━━━━━━━━━━━\u001b[0m\u001b[37m\u001b[0m \u001b[1m0s\u001b[0m 7ms/step - accuracy: 0.2785 - loss: 1.5105\n",
      "Epoch 7/10\n",
      "\u001b[1m50/50\u001b[0m \u001b[32m━━━━━━━━━━━━━━━━━━━━\u001b[0m\u001b[37m\u001b[0m \u001b[1m0s\u001b[0m 7ms/step - accuracy: 0.2880 - loss: 1.4977\n",
      "Epoch 8/10\n",
      "\u001b[1m50/50\u001b[0m \u001b[32m━━━━━━━━━━━━━━━━━━━━\u001b[0m\u001b[37m\u001b[0m \u001b[1m0s\u001b[0m 7ms/step - accuracy: 0.2783 - loss: 1.4882\n",
      "Epoch 9/10\n",
      "\u001b[1m50/50\u001b[0m \u001b[32m━━━━━━━━━━━━━━━━━━━━\u001b[0m\u001b[37m\u001b[0m \u001b[1m0s\u001b[0m 8ms/step - accuracy: 0.2816 - loss: 1.4813\n",
      "Epoch 10/10\n",
      "\u001b[1m50/50\u001b[0m \u001b[32m━━━━━━━━━━━━━━━━━━━━\u001b[0m\u001b[37m\u001b[0m \u001b[1m0s\u001b[0m 7ms/step - accuracy: 0.2935 - loss: 1.4722\n",
      "\u001b[1m13/13\u001b[0m \u001b[32m━━━━━━━━━━━━━━━━━━━━\u001b[0m\u001b[37m\u001b[0m \u001b[1m0s\u001b[0m 15ms/step\n",
      "Final Model - Accuracy: 0.3625, WER: 0.6375\n"
     ]
    },
    {
     "data": {
      "image/png": "[encoded data removed]",
      "text/plain": [
       "<Figure size 800x600 with 2 Axes>"
      ]
     },
     "metadata": {},
     "output_type": "display_data"
    }
   ],
   "source": [
    "import numpy as np\n",
    "import librosa\n",
    "import tensorflow as tf\n",
    "from sklearn.model_selection import train_test_split\n",
    "from sklearn.metrics import accuracy_score, confusion_matrix\n",
    "from jiwer import wer\n",
    "import matplotlib.pyplot as plt\n",
    "import seaborn as sns\n",
    "import os\n",
    "\n",
    "# Load original data\n",
    "extract_path = r\"C:\\Users\\PMLS\\Pictures\\SPEECH_COMMAND_DATASET\"\n",
    "commands = [\"cat\", \"no\", \"stop\", \"wow\", \"yes\"]\n",
    "max_files_per_command = 400\n",
    "audio_files = []\n",
    "labels = []\n",
    "\n",
    "for command in commands:\n",
    "    folder_path = os.path.join(extract_path, command)\n",
    "    files = [f for f in os.listdir(folder_path) if f.endswith('.wav')]\n",
    "    selected_files = files[:min(len(files), max_files_per_command)]\n",
    "    audio_files.extend([os.path.join(folder_path, f) for f in selected_files])\n",
    "    labels.extend([command] * len(selected_files))\n",
    "\n",
    "label_to_index = {label: idx for idx, label in enumerate(commands)}\n",
    "index_to_label = {idx: label for label, idx in label_to_index.items()}\n",
    "numeric_labels = np.array([label_to_index[label] for label in labels])\n",
    "\n",
    "# Extract MFCCs with best n_mfcc (16)\n",
    "def extract_mfcc(audio, sr=16000, n_mfcc=16, max_frames=16):\n",
    "    mfcc = librosa.feature.mfcc(y=audio, sr=sr, n_mfcc=n_mfcc, n_fft=512, hop_length=256)\n",
    "    if mfcc.shape[1] < max_frames:\n",
    "        mfcc = np.pad(mfcc, ((0, 0), (0, max_frames - mfcc.shape[1])), mode='constant')\n",
    "    else:\n",
    "        mfcc = mfcc[:, :max_frames]\n",
    "    return mfcc\n",
    "\n",
    "# Extract features\n",
    "features = []\n",
    "for audio_file in audio_files:\n",
    "    audio, sr = librosa.load(audio_file, sr=16000)\n",
    "    mfcc = extract_mfcc(audio, sr=sr, n_mfcc=16, max_frames=16)\n",
    "    features.append(mfcc)\n",
    "X = np.array(features)[..., np.newaxis]  # Shape: (n_samples, 16, 16, 1)\n",
    "y = numeric_labels\n",
    "\n",
    "# Train-test split\n",
    "X_train, X_test, y_train, y_test = train_test_split(X, y, test_size=0.2, random_state=42)\n",
    "\n",
    "# Define original CNN model (from your Step 4, adjusted for new input shape)\n",
    "def create_original_model(input_shape, num_classes, learning_rate):\n",
    "    model = tf.keras.Sequential([\n",
    "        tf.keras.layers.Conv2D(64, (3, 3), activation='relu', input_shape=input_shape),\n",
    "        tf.keras.layers.MaxPooling2D((2, 2)),\n",
    "        tf.keras.layers.Conv2D(128, (3, 3), activation='relu'),\n",
    "        tf.keras.layers.MaxPooling2D((2, 2)),\n",
    "        tf.keras.layers.Flatten(),\n",
    "        tf.keras.layers.Dense(128, activation='relu'),\n",
    "        tf.keras.layers.Dropout(0.5),\n",
    "        tf.keras.layers.Dense(num_classes, activation='softmax')\n",
    "    ])\n",
    "    optimizer = tf.keras.optimizers.Adam(learning_rate=learning_rate)\n",
    "    model.compile(optimizer=optimizer, loss='sparse_categorical_crossentropy', metrics=['accuracy'])\n",
    "    return model\n",
    "\n",
    "# Train model with best hyperparameters\n",
    "model = create_original_model(input_shape=(16, 16, 1), num_classes=5, learning_rate=0.001)\n",
    "model.fit(X_train, y_train, epochs=10, batch_size=32, verbose=1)\n",
    "\n",
    "# Evaluate on test set\n",
    "y_pred = model.predict(X_test)\n",
    "y_pred_labels = np.argmax(y_pred, axis=1)\n",
    "\n",
    "# Map to command names for WER\n",
    "y_test_commands = [index_to_label[label] for label in y_test]\n",
    "y_pred_commands = [index_to_label[label] for label in y_pred_labels]\n",
    "\n",
    "# Calculate metrics\n",
    "accuracy = accuracy_score(y_test, y_pred_labels)\n",
    "wer_score = wer(y_test_commands, y_pred_commands)\n",
    "conf_matrix = confusion_matrix(y_test, y_pred_labels)\n",
    "\n",
    "print(f\"Final Model - Accuracy: {accuracy:.4f}, WER: {wer_score:.4f}\")\n",
    "\n",
    "# Visualize confusion matrix\n",
    "plt.figure(figsize=(8, 6))\n",
    "sns.heatmap(conf_matrix, annot=True, fmt=\"d\", xticklabels=commands, yticklabels=commands, cmap=\"Blues\")\n",
    "plt.xlabel('Predicted')\n",
    "plt.ylabel('True')\n",
    "plt.title('Confusion Matrix - Final Model')\n",
    "plt.savefig('final_confusion_matrix.png')\n",
    "plt.show()"
   ]
  },
  {
   "cell_type": "code",
   "execution_count": 22,
   "id": "28d9e03b",
   "metadata": {},
   "outputs": [
    {
     "name": "stdout",
     "output_type": "stream",
     "text": [
      "🎤 Recording... Speak now!\n",
      "✅ Recording saved as live_audio.wav\n"
     ]
    }
   ],
   "source": [
    "import pyaudio\n",
    "import wave\n",
    "\n",
    "def record_audio(filename=\"live_audio.wav\", duration=1, sr=16000):\n",
    "    print(\"🎤 Recording... Speak now!\")\n",
    "    try:\n",
    "        audio = pyaudio.PyAudio()\n",
    "        stream = audio.open(format=pyaudio.paInt16, channels=1, rate=sr, input=True, frames_per_buffer=1024)\n",
    "\n",
    "        frames = []\n",
    "        for _ in range(int(sr / 1024 * duration)):\n",
    "            data = stream.read(1024)\n",
    "            frames.append(data)\n",
    "\n",
    "        stream.stop_stream()\n",
    "        stream.close()\n",
    "        audio.terminate()\n",
    "\n",
    "        # Save recorded file\n",
    "        wf = wave.open(filename, 'wb')\n",
    "        wf.setnchannels(1)\n",
    "        wf.setsampwidth(audio.get_sample_size(pyaudio.paInt16))\n",
    "        wf.setframerate(sr)\n",
    "        wf.writeframes(b''.join(frames))\n",
    "        wf.close()\n",
    "        print(f\"✅ Recording saved as {filename}\")\n",
    "    except Exception as e:\n",
    "        print(f\"❌ Error during recording: {e}\")\n",
    "\n",
    "# Record audio\n",
    "record_audio()"
   ]
  },
  {
   "cell_type": "code",
   "execution_count": 23,
   "id": "eb71d667",
   "metadata": {},
   "outputs": [
    {
     "name": "stdout",
     "output_type": "stream",
     "text": [
      "\u001b[1m1/1\u001b[0m \u001b[32m━━━━━━━━━━━━━━━━━━━━\u001b[0m\u001b[37m\u001b[0m \u001b[1m0s\u001b[0m 33ms/step\n"
     ]
    },
    {
     "data": {
      "image/png": "[encoded data removed]",
      "text/plain": [
       "<Figure size 800x500 with 1 Axes>"
      ]
     },
     "metadata": {},
     "output_type": "display_data"
    }
   ],
   "source": [
    "import librosa\n",
    "import numpy as np\n",
    "import matplotlib.pyplot as plt\n",
    "\n",
    "def predict_live_audio_chart(model, filename=\"live_audio.wav\", n_mfcc=16, max_frames=16):\n",
    "    try:\n",
    "        # Load and process audio\n",
    "        audio, sr = librosa.load(filename, sr=16000)\n",
    "        mfcc = librosa.feature.mfcc(y=audio, sr=sr, n_mfcc=n_mfcc, n_fft=512, hop_length=256)\n",
    "\n",
    "        # Normalize feature dimensions\n",
    "        if mfcc.shape[1] < max_frames:\n",
    "            mfcc = np.pad(mfcc, ((0, 0), (0, max_frames - mfcc.shape[1])), mode='constant')\n",
    "        else:\n",
    "            mfcc = mfcc[:, :max_frames]\n",
    "\n",
    "        mfcc = mfcc[np.newaxis, ..., np.newaxis]  # Reshape for model input (1, 16, 16, 1)\n",
    "\n",
    "        # Predict probabilities for each command\n",
    "        prediction = model.predict(mfcc)\n",
    "        predicted_label = commands[np.argmax(prediction)]\n",
    "        probabilities = prediction[0]  # Extract individual probabilities\n",
    "\n",
    "        # Plot bar chart of predictions\n",
    "        plt.figure(figsize=(8, 5))\n",
    "        plt.bar(commands, probabilities, color=[\"blue\" if cmd != predicted_label else \"red\" for cmd in commands])\n",
    "        plt.xlabel(\"Speech Commands\")\n",
    "        plt.ylabel(\"Prediction Confidence\")\n",
    "        plt.title(f\"Predicted Command: {predicted_label}\")\n",
    "        plt.savefig('live_prediction_chart.png')  # Save the chart\n",
    "        plt.show()\n",
    "    except Exception as e:\n",
    "        print(f\"❌ Error during prediction: {e}\")\n",
    "\n",
    "# Predict and visualize (assuming 'model' and 'commands' are defined from previous cell)\n",
    "predict_live_audio_chart(model)"
   ]
  },
  {
   "cell_type": "code",
   "execution_count": null,
   "id": "bc4e4b49",
   "metadata": {},
   "outputs": [],
   "source": []
  }
 ],
 "metadata": {
  "kernelspec": {
   "display_name": "Python 3 (ipykernel)",
   "language": "python",
   "name": "python3"
  },
  "language_info": {
   "codemirror_mode": {
    "name": "ipython",
    "version": 3
   },
   "file_extension": ".py",
   "mimetype": "text/x-python",
   "name": "python",
   "nbconvert_exporter": "python",
   "pygments_lexer": "ipython3",
   "version": "3.11.4"
  }
 },
 "nbformat": 4,
 "nbformat_minor": 5
}
